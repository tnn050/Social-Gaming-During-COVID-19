{
 "cells": [
  {
   "cell_type": "markdown",
   "metadata": {},
   "source": [
    "# COGS 108 - Data Checkpoint"
   ]
  },
  {
   "cell_type": "markdown",
   "metadata": {},
   "source": [
    "# Names\n",
    "\n",
    "- Thuy Nguyen\n",
    "- Tony Hu\n",
    "- Raul Vargas\n",
    "- Kristen Corpuz\n",
    "- Megan Li"
   ]
  },
  {
   "cell_type": "markdown",
   "metadata": {},
   "source": [
    "<a id='research_question'></a>\n",
    "# Research Question"
   ]
  },
  {
   "cell_type": "markdown",
   "metadata": {},
   "source": [
    "How did the pandemic affect multiplayer game (games with social interaction) games available on steam:\n",
    "- How did the pandemic in 2020 affect player count of the most popular multiplayer games on steam versus the most popular single single player games? \n",
    "- Potential: How did the pandemic affect the types of games that were released before the pandemic versus after the pandemic?"
   ]
  },
  {
   "cell_type": "markdown",
   "metadata": {},
   "source": [
    "# Dataset(s)"
   ]
  },
  {
   "cell_type": "markdown",
   "metadata": {},
   "source": [
    "**Dataset 1 Name: Application Information (csv file)**\n",
    "\n",
    "- Link to the dataset: https://data.mendeley.com/datasets/ycy3sy3vj2/1\n",
    "- Number of observations: 2000\n",
    "- Note that there are 1963 games in the dataset out of the 2000 applications before data cleaning\n",
    "\n",
    "This dataset has 2000 rows and 5 columns, containing the game ID in the first column and application type, name, release date, and free to play values in the rest of the four columns.\n",
    "\n",
    "**Dataset 2 Name: Application Genres (csv file)**\n",
    "- Link to the dataset: https://data.mendeley.com/datasets/ycy3sy3vj2/1\n",
    "- Number of observations: 2000\n",
    "\n",
    "This dataset has 2000 rows and 2 columns, containing the game ID in the first column and a list of genres corresponding to each game in the second column.\n",
    "\n",
    "**Dataset 3 Name: Application Tags (csv file)**\n",
    "- Link to the dataset: https://data.mendeley.com/datasets/ycy3sy3vj2/1\n",
    "- Number of observations: 2000\n",
    "\n",
    "This dataset has 2000 rows and 2 columns, containing the game ID in the first column and a list of game tags corresponding to each game in the second column.\n",
    "\n",
    "**Dataset 4 Name: Player Count History Part 1 and Player Count History Part 2 (zip files)**\n",
    "- Link to the dataset: https://data.mendeley.com/datasets/ycy3sy3vj2/1\n",
    "- Number of observations: 2000 individual csv files corresponding to each game ID\n",
    "\n",
    "Each Player Count History zip file contains 2000 csv files for each game. Each game’s file has 280,225 rows and 2 columns, containing the date and time in the first column in 5-minute intervals starting from 12/14/2017 12:00 AM to 8/12/2020 11:55 PM and player count for the corresponding date and time in the second column.\n",
    "\n",
    "**Merging the data**\n",
    "\n",
    "We plan to merge datasets 1, 2, and 3 on the game ID using an inner merge and only keeping the rows that exist in all 3 datasets after individually pruning rows in each dataset. After cleaning the top 5 games for selected genres’ (such as single player and multiplayer) player count history files to store monthly averaged player counts starting from January 2019 to August 2020, we may merge this information with our previously combined dataset using the game ID."
   ]
  },
  {
   "cell_type": "markdown",
   "metadata": {},
   "source": [
    "# Setup"
   ]
  },
  {
   "cell_type": "code",
   "execution_count": 1,
   "metadata": {},
   "outputs": [],
   "source": [
    "# importing libraries we might need later\n",
    "%matplotlib inline\n",
    "\n",
    "import numpy as np\n",
    "import pandas as pd\n",
    "import matplotlib.pyplot as plt\n",
    "import math\n",
    "import seaborn as sns"
   ]
  },
  {
   "cell_type": "code",
   "execution_count": 2,
   "metadata": {},
   "outputs": [
    {
     "output_type": "execute_result",
     "data": {
      "text/plain": [
       "          ID                                      Genres\n",
       "0     578080  [Action, Adventure, Massively Multiplayer]\n",
       "1        570            [Action, Free to Play, Strategy]\n",
       "2        730                      [Action, Free to Play]\n",
       "3     359550                                    [Action]\n",
       "4     271590                         [Action, Adventure]\n",
       "...      ...                                         ...\n",
       "1827   64000                                  [Strategy]\n",
       "1828  227860                           [Indie, Strategy]\n",
       "1829  429050   [Action, Indie, Simulation, Early Access]\n",
       "1830  209650                                    [Action]\n",
       "1831  304730                 [Casual, Indie, Simulation]\n",
       "\n",
       "[1832 rows x 2 columns]"
      ],
      "text/html": "<div>\n<style scoped>\n    .dataframe tbody tr th:only-of-type {\n        vertical-align: middle;\n    }\n\n    .dataframe tbody tr th {\n        vertical-align: top;\n    }\n\n    .dataframe thead th {\n        text-align: right;\n    }\n</style>\n<table border=\"1\" class=\"dataframe\">\n  <thead>\n    <tr style=\"text-align: right;\">\n      <th></th>\n      <th>ID</th>\n      <th>Genres</th>\n    </tr>\n  </thead>\n  <tbody>\n    <tr>\n      <th>0</th>\n      <td>578080</td>\n      <td>[Action, Adventure, Massively Multiplayer]</td>\n    </tr>\n    <tr>\n      <th>1</th>\n      <td>570</td>\n      <td>[Action, Free to Play, Strategy]</td>\n    </tr>\n    <tr>\n      <th>2</th>\n      <td>730</td>\n      <td>[Action, Free to Play]</td>\n    </tr>\n    <tr>\n      <th>3</th>\n      <td>359550</td>\n      <td>[Action]</td>\n    </tr>\n    <tr>\n      <th>4</th>\n      <td>271590</td>\n      <td>[Action, Adventure]</td>\n    </tr>\n    <tr>\n      <th>...</th>\n      <td>...</td>\n      <td>...</td>\n    </tr>\n    <tr>\n      <th>1827</th>\n      <td>64000</td>\n      <td>[Strategy]</td>\n    </tr>\n    <tr>\n      <th>1828</th>\n      <td>227860</td>\n      <td>[Indie, Strategy]</td>\n    </tr>\n    <tr>\n      <th>1829</th>\n      <td>429050</td>\n      <td>[Action, Indie, Simulation, Early Access]</td>\n    </tr>\n    <tr>\n      <th>1830</th>\n      <td>209650</td>\n      <td>[Action]</td>\n    </tr>\n    <tr>\n      <th>1831</th>\n      <td>304730</td>\n      <td>[Casual, Indie, Simulation]</td>\n    </tr>\n  </tbody>\n</table>\n<p>1832 rows × 2 columns</p>\n</div>"
     },
     "metadata": {},
     "execution_count": 2
    }
   ],
   "source": [
    "\n",
    "# Read applicationGenres.csv into dataframe storing only IDs with genres\n",
    "with open('./datasets/applicationGenres.csv') as f:\n",
    "    genresDict = {} # Store distinct genres\n",
    "    IDs = []\n",
    "    genres = []\n",
    "    for line in f:\n",
    "        if ',' in line:\n",
    "            cleanLine = line.strip().split(',')\n",
    "            IDs.append(cleanLine[0])\n",
    "            genres.append(cleanLine[1:]) #genres.append(','.join(cleanLine[1:])) converts list to string\n",
    "            for genre in cleanLine[1:]: genresDict.setdefault(genre)\n",
    "df_genre = pd.DataFrame({'ID':IDs, 'Genres':genres},)\n",
    "df_genre[\"ID\"] = pd.to_numeric(df_genre[\"ID\"])\n",
    "df_genre"
   ]
  },
  {
   "cell_type": "markdown",
   "metadata": {},
   "source": [
    "Using one-hot encoding to separate genres into their own columns instead of having them listed as list of genres for every observation like the table above. Every genre column will be marked with 1 if it is present in the original list of genres for each observation."
   ]
  },
  {
   "cell_type": "code",
   "execution_count": 3,
   "metadata": {},
   "outputs": [],
   "source": [
    "df_genre = df_genre.drop('Genres', 1).join(df_genre.Genres.str.join('|').str.get_dummies())"
   ]
  },
  {
   "cell_type": "code",
   "execution_count": 4,
   "metadata": {},
   "outputs": [
    {
     "output_type": "stream",
     "name": "stdout",
     "text": [
      "(1832, 27)\n"
     ]
    },
    {
     "output_type": "execute_result",
     "data": {
      "text/plain": [
       "          ID  60  Action  Adventure  Animation & Modeling  Audio Production  \\\n",
       "0     578080   0       1          1                     0                 0   \n",
       "1        570   0       1          0                     0                 0   \n",
       "2        730   0       1          0                     0                 0   \n",
       "3     359550   0       1          0                     0                 0   \n",
       "4     271590   0       1          1                     0                 0   \n",
       "...      ...  ..     ...        ...                   ...               ...   \n",
       "1827   64000   0       0          0                     0                 0   \n",
       "1828  227860   0       0          0                     0                 0   \n",
       "1829  429050   0       1          0                     0                 0   \n",
       "1830  209650   0       1          0                     0                 0   \n",
       "1831  304730   0       0          0                     0                 0   \n",
       "\n",
       "      Casual  Design & Illustration  Early Access  Education  ...  Racing  \\\n",
       "0          0                      0             0          0  ...       0   \n",
       "1          0                      0             0          0  ...       0   \n",
       "2          0                      0             0          0  ...       0   \n",
       "3          0                      0             0          0  ...       0   \n",
       "4          0                      0             0          0  ...       0   \n",
       "...      ...                    ...           ...        ...  ...     ...   \n",
       "1827       0                      0             0          0  ...       0   \n",
       "1828       0                      0             0          0  ...       0   \n",
       "1829       0                      0             1          0  ...       0   \n",
       "1830       0                      0             0          0  ...       0   \n",
       "1831       1                      0             0          0  ...       0   \n",
       "\n",
       "      Sexual Content  Simulation  Software Training  Sports  Strategy  \\\n",
       "0                  0           0                  0       0         0   \n",
       "1                  0           0                  0       0         1   \n",
       "2                  0           0                  0       0         0   \n",
       "3                  0           0                  0       0         0   \n",
       "4                  0           0                  0       0         0   \n",
       "...              ...         ...                ...     ...       ...   \n",
       "1827               0           0                  0       0         1   \n",
       "1828               0           0                  0       0         1   \n",
       "1829               0           1                  0       0         0   \n",
       "1830               0           0                  0       0         0   \n",
       "1831               0           1                  0       0         0   \n",
       "\n",
       "      Utilities  Video Production  Violent  Web Publishing  \n",
       "0             0                 0        0               0  \n",
       "1             0                 0        0               0  \n",
       "2             0                 0        0               0  \n",
       "3             0                 0        0               0  \n",
       "4             0                 0        0               0  \n",
       "...         ...               ...      ...             ...  \n",
       "1827          0                 0        0               0  \n",
       "1828          0                 0        0               0  \n",
       "1829          0                 0        0               0  \n",
       "1830          0                 0        0               0  \n",
       "1831          0                 0        0               0  \n",
       "\n",
       "[1832 rows x 27 columns]"
      ],
      "text/html": "<div>\n<style scoped>\n    .dataframe tbody tr th:only-of-type {\n        vertical-align: middle;\n    }\n\n    .dataframe tbody tr th {\n        vertical-align: top;\n    }\n\n    .dataframe thead th {\n        text-align: right;\n    }\n</style>\n<table border=\"1\" class=\"dataframe\">\n  <thead>\n    <tr style=\"text-align: right;\">\n      <th></th>\n      <th>ID</th>\n      <th>60</th>\n      <th>Action</th>\n      <th>Adventure</th>\n      <th>Animation &amp; Modeling</th>\n      <th>Audio Production</th>\n      <th>Casual</th>\n      <th>Design &amp; Illustration</th>\n      <th>Early Access</th>\n      <th>Education</th>\n      <th>...</th>\n      <th>Racing</th>\n      <th>Sexual Content</th>\n      <th>Simulation</th>\n      <th>Software Training</th>\n      <th>Sports</th>\n      <th>Strategy</th>\n      <th>Utilities</th>\n      <th>Video Production</th>\n      <th>Violent</th>\n      <th>Web Publishing</th>\n    </tr>\n  </thead>\n  <tbody>\n    <tr>\n      <th>0</th>\n      <td>578080</td>\n      <td>0</td>\n      <td>1</td>\n      <td>1</td>\n      <td>0</td>\n      <td>0</td>\n      <td>0</td>\n      <td>0</td>\n      <td>0</td>\n      <td>0</td>\n      <td>...</td>\n      <td>0</td>\n      <td>0</td>\n      <td>0</td>\n      <td>0</td>\n      <td>0</td>\n      <td>0</td>\n      <td>0</td>\n      <td>0</td>\n      <td>0</td>\n      <td>0</td>\n    </tr>\n    <tr>\n      <th>1</th>\n      <td>570</td>\n      <td>0</td>\n      <td>1</td>\n      <td>0</td>\n      <td>0</td>\n      <td>0</td>\n      <td>0</td>\n      <td>0</td>\n      <td>0</td>\n      <td>0</td>\n      <td>...</td>\n      <td>0</td>\n      <td>0</td>\n      <td>0</td>\n      <td>0</td>\n      <td>0</td>\n      <td>1</td>\n      <td>0</td>\n      <td>0</td>\n      <td>0</td>\n      <td>0</td>\n    </tr>\n    <tr>\n      <th>2</th>\n      <td>730</td>\n      <td>0</td>\n      <td>1</td>\n      <td>0</td>\n      <td>0</td>\n      <td>0</td>\n      <td>0</td>\n      <td>0</td>\n      <td>0</td>\n      <td>0</td>\n      <td>...</td>\n      <td>0</td>\n      <td>0</td>\n      <td>0</td>\n      <td>0</td>\n      <td>0</td>\n      <td>0</td>\n      <td>0</td>\n      <td>0</td>\n      <td>0</td>\n      <td>0</td>\n    </tr>\n    <tr>\n      <th>3</th>\n      <td>359550</td>\n      <td>0</td>\n      <td>1</td>\n      <td>0</td>\n      <td>0</td>\n      <td>0</td>\n      <td>0</td>\n      <td>0</td>\n      <td>0</td>\n      <td>0</td>\n      <td>...</td>\n      <td>0</td>\n      <td>0</td>\n      <td>0</td>\n      <td>0</td>\n      <td>0</td>\n      <td>0</td>\n      <td>0</td>\n      <td>0</td>\n      <td>0</td>\n      <td>0</td>\n    </tr>\n    <tr>\n      <th>4</th>\n      <td>271590</td>\n      <td>0</td>\n      <td>1</td>\n      <td>1</td>\n      <td>0</td>\n      <td>0</td>\n      <td>0</td>\n      <td>0</td>\n      <td>0</td>\n      <td>0</td>\n      <td>...</td>\n      <td>0</td>\n      <td>0</td>\n      <td>0</td>\n      <td>0</td>\n      <td>0</td>\n      <td>0</td>\n      <td>0</td>\n      <td>0</td>\n      <td>0</td>\n      <td>0</td>\n    </tr>\n    <tr>\n      <th>...</th>\n      <td>...</td>\n      <td>...</td>\n      <td>...</td>\n      <td>...</td>\n      <td>...</td>\n      <td>...</td>\n      <td>...</td>\n      <td>...</td>\n      <td>...</td>\n      <td>...</td>\n      <td>...</td>\n      <td>...</td>\n      <td>...</td>\n      <td>...</td>\n      <td>...</td>\n      <td>...</td>\n      <td>...</td>\n      <td>...</td>\n      <td>...</td>\n      <td>...</td>\n      <td>...</td>\n    </tr>\n    <tr>\n      <th>1827</th>\n      <td>64000</td>\n      <td>0</td>\n      <td>0</td>\n      <td>0</td>\n      <td>0</td>\n      <td>0</td>\n      <td>0</td>\n      <td>0</td>\n      <td>0</td>\n      <td>0</td>\n      <td>...</td>\n      <td>0</td>\n      <td>0</td>\n      <td>0</td>\n      <td>0</td>\n      <td>0</td>\n      <td>1</td>\n      <td>0</td>\n      <td>0</td>\n      <td>0</td>\n      <td>0</td>\n    </tr>\n    <tr>\n      <th>1828</th>\n      <td>227860</td>\n      <td>0</td>\n      <td>0</td>\n      <td>0</td>\n      <td>0</td>\n      <td>0</td>\n      <td>0</td>\n      <td>0</td>\n      <td>0</td>\n      <td>0</td>\n      <td>...</td>\n      <td>0</td>\n      <td>0</td>\n      <td>0</td>\n      <td>0</td>\n      <td>0</td>\n      <td>1</td>\n      <td>0</td>\n      <td>0</td>\n      <td>0</td>\n      <td>0</td>\n    </tr>\n    <tr>\n      <th>1829</th>\n      <td>429050</td>\n      <td>0</td>\n      <td>1</td>\n      <td>0</td>\n      <td>0</td>\n      <td>0</td>\n      <td>0</td>\n      <td>0</td>\n      <td>1</td>\n      <td>0</td>\n      <td>...</td>\n      <td>0</td>\n      <td>0</td>\n      <td>1</td>\n      <td>0</td>\n      <td>0</td>\n      <td>0</td>\n      <td>0</td>\n      <td>0</td>\n      <td>0</td>\n      <td>0</td>\n    </tr>\n    <tr>\n      <th>1830</th>\n      <td>209650</td>\n      <td>0</td>\n      <td>1</td>\n      <td>0</td>\n      <td>0</td>\n      <td>0</td>\n      <td>0</td>\n      <td>0</td>\n      <td>0</td>\n      <td>0</td>\n      <td>...</td>\n      <td>0</td>\n      <td>0</td>\n      <td>0</td>\n      <td>0</td>\n      <td>0</td>\n      <td>0</td>\n      <td>0</td>\n      <td>0</td>\n      <td>0</td>\n      <td>0</td>\n    </tr>\n    <tr>\n      <th>1831</th>\n      <td>304730</td>\n      <td>0</td>\n      <td>0</td>\n      <td>0</td>\n      <td>0</td>\n      <td>0</td>\n      <td>1</td>\n      <td>0</td>\n      <td>0</td>\n      <td>0</td>\n      <td>...</td>\n      <td>0</td>\n      <td>0</td>\n      <td>1</td>\n      <td>0</td>\n      <td>0</td>\n      <td>0</td>\n      <td>0</td>\n      <td>0</td>\n      <td>0</td>\n      <td>0</td>\n    </tr>\n  </tbody>\n</table>\n<p>1832 rows × 27 columns</p>\n</div>"
     },
     "metadata": {},
     "execution_count": 4
    }
   ],
   "source": [
    "print(df_genre.shape)\n",
    "df_genre"
   ]
  },
  {
   "cell_type": "markdown",
   "metadata": {},
   "source": [
    "Next, we will look at all columns that has at least one observation with a value 1 for df_genres."
   ]
  },
  {
   "cell_type": "code",
   "execution_count": 5,
   "metadata": {},
   "outputs": [
    {
     "output_type": "execute_result",
     "data": {
      "text/plain": [
       "60                       True\n",
       "Action                   True\n",
       "Adventure                True\n",
       "Animation & Modeling     True\n",
       "Audio Production         True\n",
       "Casual                   True\n",
       "Design & Illustration    True\n",
       "Early Access             True\n",
       "Education                True\n",
       "Free to Play             True\n",
       "Gore                     True\n",
       "Indie                    True\n",
       "Massively Multiplayer    True\n",
       "Nudity                   True\n",
       "Photo Editing            True\n",
       "RPG                      True\n",
       "Racing                   True\n",
       "Sexual Content           True\n",
       "Simulation               True\n",
       "Software Training        True\n",
       "Sports                   True\n",
       "Strategy                 True\n",
       "Utilities                True\n",
       "Video Production         True\n",
       "Violent                  True\n",
       "Web Publishing           True\n",
       "dtype: bool"
      ]
     },
     "metadata": {},
     "execution_count": 5
    }
   ],
   "source": [
    "(df_genre.loc[:, df_genre.columns != 'ID'] > 0).any()"
   ]
  },
  {
   "cell_type": "markdown",
   "metadata": {},
   "source": [
    "It seems like all columns of different genres have at least one observation that has a value of 1. However, we will be dropping the column labeled '60' due its ambiguity and legen-related explanation from the source."
   ]
  },
  {
   "cell_type": "code",
   "execution_count": 6,
   "metadata": {},
   "outputs": [
    {
     "output_type": "stream",
     "name": "stdout",
     "text": [
      "['ID', 'Action', 'Adventure', 'Animation & Modeling', 'Audio Production', 'Casual', 'Design & Illustration', 'Early Access', 'Education', 'Free to Play', 'Gore', 'Indie', 'Massively Multiplayer', 'Nudity', 'Photo Editing', 'RPG', 'Racing', 'Sexual Content', 'Simulation', 'Software Training', 'Sports', 'Strategy', 'Utilities', 'Video Production', 'Violent', 'Web Publishing']\n"
     ]
    }
   ],
   "source": [
    "df_genre.drop('60', inplace=True, axis=1)\n",
    "print(list(df_genre.columns))"
   ]
  },
  {
   "cell_type": "code",
   "execution_count": 7,
   "metadata": {},
   "outputs": [
    {
     "output_type": "execute_result",
     "data": {
      "text/plain": [
       "(1832, 26)"
      ]
     },
     "metadata": {},
     "execution_count": 7
    }
   ],
   "source": [
    "df_genre.shape"
   ]
  },
  {
   "cell_type": "markdown",
   "metadata": {},
   "source": [
    "Next we will be importing data from the file \"applicationInformation.csv\"."
   ]
  },
  {
   "cell_type": "code",
   "execution_count": 8,
   "metadata": {},
   "outputs": [
    {
     "output_type": "stream",
     "name": "stdout",
     "text": [
      "(2000, 5)\n"
     ]
    },
    {
     "output_type": "execute_result",
     "data": {
      "text/plain": [
       "          ID         type                                         name  \\\n",
       "0     578080         game                PLAYERUNKNOWN'S BATTLEGROUNDS   \n",
       "1        570         game                                       Dota 2   \n",
       "2        730         game             Counter-Strike: Global Offensive   \n",
       "3     622590          NaN  PLAYERUNKNOWN'S BATTLEGROUNDS (Test Server)   \n",
       "4     359550         game               Tom Clancy's Rainbow Six Siege   \n",
       "...      ...          ...                                          ...   \n",
       "1995   34000  advertising                        Football Manager 2010   \n",
       "1996  202480          NaN                          Skyrim Creation Kit   \n",
       "1997  429050         game                          Feed and Grow: Fish   \n",
       "1998  209650         game               Call of Duty: Advanced Warfare   \n",
       "1999  304730         game                                  Train Fever   \n",
       "\n",
       "     releasedate  freetoplay  \n",
       "0      21-Dec-17         0.0  \n",
       "1       9-Jul-13         1.0  \n",
       "2      21-Aug-12         1.0  \n",
       "3            NaN         NaN  \n",
       "4       1-Dec-15         0.0  \n",
       "...          ...         ...  \n",
       "1995   29-Oct-09         1.0  \n",
       "1996         NaN         NaN  \n",
       "1997    8-Jan-16         0.0  \n",
       "1998    3-Nov-14         0.0  \n",
       "1999    4-Sep-14         0.0  \n",
       "\n",
       "[2000 rows x 5 columns]"
      ],
      "text/html": "<div>\n<style scoped>\n    .dataframe tbody tr th:only-of-type {\n        vertical-align: middle;\n    }\n\n    .dataframe tbody tr th {\n        vertical-align: top;\n    }\n\n    .dataframe thead th {\n        text-align: right;\n    }\n</style>\n<table border=\"1\" class=\"dataframe\">\n  <thead>\n    <tr style=\"text-align: right;\">\n      <th></th>\n      <th>ID</th>\n      <th>type</th>\n      <th>name</th>\n      <th>releasedate</th>\n      <th>freetoplay</th>\n    </tr>\n  </thead>\n  <tbody>\n    <tr>\n      <th>0</th>\n      <td>578080</td>\n      <td>game</td>\n      <td>PLAYERUNKNOWN'S BATTLEGROUNDS</td>\n      <td>21-Dec-17</td>\n      <td>0.0</td>\n    </tr>\n    <tr>\n      <th>1</th>\n      <td>570</td>\n      <td>game</td>\n      <td>Dota 2</td>\n      <td>9-Jul-13</td>\n      <td>1.0</td>\n    </tr>\n    <tr>\n      <th>2</th>\n      <td>730</td>\n      <td>game</td>\n      <td>Counter-Strike: Global Offensive</td>\n      <td>21-Aug-12</td>\n      <td>1.0</td>\n    </tr>\n    <tr>\n      <th>3</th>\n      <td>622590</td>\n      <td>NaN</td>\n      <td>PLAYERUNKNOWN'S BATTLEGROUNDS (Test Server)</td>\n      <td>NaN</td>\n      <td>NaN</td>\n    </tr>\n    <tr>\n      <th>4</th>\n      <td>359550</td>\n      <td>game</td>\n      <td>Tom Clancy's Rainbow Six Siege</td>\n      <td>1-Dec-15</td>\n      <td>0.0</td>\n    </tr>\n    <tr>\n      <th>...</th>\n      <td>...</td>\n      <td>...</td>\n      <td>...</td>\n      <td>...</td>\n      <td>...</td>\n    </tr>\n    <tr>\n      <th>1995</th>\n      <td>34000</td>\n      <td>advertising</td>\n      <td>Football Manager 2010</td>\n      <td>29-Oct-09</td>\n      <td>1.0</td>\n    </tr>\n    <tr>\n      <th>1996</th>\n      <td>202480</td>\n      <td>NaN</td>\n      <td>Skyrim Creation Kit</td>\n      <td>NaN</td>\n      <td>NaN</td>\n    </tr>\n    <tr>\n      <th>1997</th>\n      <td>429050</td>\n      <td>game</td>\n      <td>Feed and Grow: Fish</td>\n      <td>8-Jan-16</td>\n      <td>0.0</td>\n    </tr>\n    <tr>\n      <th>1998</th>\n      <td>209650</td>\n      <td>game</td>\n      <td>Call of Duty: Advanced Warfare</td>\n      <td>3-Nov-14</td>\n      <td>0.0</td>\n    </tr>\n    <tr>\n      <th>1999</th>\n      <td>304730</td>\n      <td>game</td>\n      <td>Train Fever</td>\n      <td>4-Sep-14</td>\n      <td>0.0</td>\n    </tr>\n  </tbody>\n</table>\n<p>2000 rows × 5 columns</p>\n</div>"
     },
     "metadata": {},
     "execution_count": 8
    }
   ],
   "source": [
    "# Get the applicationInformation.csv and remove rows that are not games and empty\n",
    "df_info = pd.read_csv(\"./datasets/applicationInformation.csv\", engine=\"python\")\n",
    "# renaming the appid column to ID, matching the ID column for df_genre\n",
    "df_info = df_info.rename(columns={'appid': 'ID'})\n",
    "print(df_info.shape)\n",
    "df_info"
   ]
  },
  {
   "cell_type": "markdown",
   "metadata": {},
   "source": [
    "Since we will only be exploring data about video games, we will be dropping any observations with a non-game for the \"type\" column"
   ]
  },
  {
   "cell_type": "code",
   "execution_count": 9,
   "metadata": {},
   "outputs": [
    {
     "output_type": "stream",
     "name": "stdout",
     "text": [
      "(1851, 5)\n"
     ]
    },
    {
     "output_type": "execute_result",
     "data": {
      "text/plain": [
       "          ID  type                              name releasedate  freetoplay\n",
       "0     578080  game     PLAYERUNKNOWN'S BATTLEGROUNDS   21-Dec-17         0.0\n",
       "1        570  game                            Dota 2    9-Jul-13         1.0\n",
       "2        730  game  Counter-Strike: Global Offensive   21-Aug-12         1.0\n",
       "4     359550  game    Tom Clancy's Rainbow Six Siege    1-Dec-15         0.0\n",
       "5     271590  game                Grand Theft Auto V   13-Apr-15         0.0\n",
       "...      ...   ...                               ...         ...         ...\n",
       "1993   64000  game         Men of War: Assault Squad   24-Feb-11         0.0\n",
       "1994  227860  game                      Castle Story   17-Aug-17         0.0\n",
       "1997  429050  game               Feed and Grow: Fish    8-Jan-16         0.0\n",
       "1998  209650  game    Call of Duty: Advanced Warfare    3-Nov-14         0.0\n",
       "1999  304730  game                       Train Fever    4-Sep-14         0.0\n",
       "\n",
       "[1851 rows x 5 columns]"
      ],
      "text/html": "<div>\n<style scoped>\n    .dataframe tbody tr th:only-of-type {\n        vertical-align: middle;\n    }\n\n    .dataframe tbody tr th {\n        vertical-align: top;\n    }\n\n    .dataframe thead th {\n        text-align: right;\n    }\n</style>\n<table border=\"1\" class=\"dataframe\">\n  <thead>\n    <tr style=\"text-align: right;\">\n      <th></th>\n      <th>ID</th>\n      <th>type</th>\n      <th>name</th>\n      <th>releasedate</th>\n      <th>freetoplay</th>\n    </tr>\n  </thead>\n  <tbody>\n    <tr>\n      <th>0</th>\n      <td>578080</td>\n      <td>game</td>\n      <td>PLAYERUNKNOWN'S BATTLEGROUNDS</td>\n      <td>21-Dec-17</td>\n      <td>0.0</td>\n    </tr>\n    <tr>\n      <th>1</th>\n      <td>570</td>\n      <td>game</td>\n      <td>Dota 2</td>\n      <td>9-Jul-13</td>\n      <td>1.0</td>\n    </tr>\n    <tr>\n      <th>2</th>\n      <td>730</td>\n      <td>game</td>\n      <td>Counter-Strike: Global Offensive</td>\n      <td>21-Aug-12</td>\n      <td>1.0</td>\n    </tr>\n    <tr>\n      <th>4</th>\n      <td>359550</td>\n      <td>game</td>\n      <td>Tom Clancy's Rainbow Six Siege</td>\n      <td>1-Dec-15</td>\n      <td>0.0</td>\n    </tr>\n    <tr>\n      <th>5</th>\n      <td>271590</td>\n      <td>game</td>\n      <td>Grand Theft Auto V</td>\n      <td>13-Apr-15</td>\n      <td>0.0</td>\n    </tr>\n    <tr>\n      <th>...</th>\n      <td>...</td>\n      <td>...</td>\n      <td>...</td>\n      <td>...</td>\n      <td>...</td>\n    </tr>\n    <tr>\n      <th>1993</th>\n      <td>64000</td>\n      <td>game</td>\n      <td>Men of War: Assault Squad</td>\n      <td>24-Feb-11</td>\n      <td>0.0</td>\n    </tr>\n    <tr>\n      <th>1994</th>\n      <td>227860</td>\n      <td>game</td>\n      <td>Castle Story</td>\n      <td>17-Aug-17</td>\n      <td>0.0</td>\n    </tr>\n    <tr>\n      <th>1997</th>\n      <td>429050</td>\n      <td>game</td>\n      <td>Feed and Grow: Fish</td>\n      <td>8-Jan-16</td>\n      <td>0.0</td>\n    </tr>\n    <tr>\n      <th>1998</th>\n      <td>209650</td>\n      <td>game</td>\n      <td>Call of Duty: Advanced Warfare</td>\n      <td>3-Nov-14</td>\n      <td>0.0</td>\n    </tr>\n    <tr>\n      <th>1999</th>\n      <td>304730</td>\n      <td>game</td>\n      <td>Train Fever</td>\n      <td>4-Sep-14</td>\n      <td>0.0</td>\n    </tr>\n  </tbody>\n</table>\n<p>1851 rows × 5 columns</p>\n</div>"
     },
     "metadata": {},
     "execution_count": 9
    }
   ],
   "source": [
    "df_info = df_info[df_info.type == 'game']\n",
    "print(df_info.shape)\n",
    "df_info"
   ]
  },
  {
   "cell_type": "markdown",
   "metadata": {},
   "source": [
    "Next we will be importing data from the file \"applicationTags.csv\"."
   ]
  },
  {
   "cell_type": "code",
   "execution_count": 10,
   "metadata": {},
   "outputs": [],
   "source": [
    "with open('./datasets/applicationTags.csv') as f:\n",
    "    tagDict = {} # Store distinct genres\n",
    "    IDs = []\n",
    "    tags = []\n",
    "    for line in f:\n",
    "        if ',' in line:\n",
    "            cleanLine = line.strip().split(',')\n",
    "            IDs.append(cleanLine[0])\n",
    "            tags.append(cleanLine[1:]) \n",
    "            for tag in cleanLine[1:]: tagDict.setdefault(tag)\n",
    "df_tags = pd.DataFrame({'ID':IDs, 'Tags':tags},)\n",
    "df_tags[\"ID\"] = pd.to_numeric(df_tags[\"ID\"])"
   ]
  },
  {
   "cell_type": "markdown",
   "metadata": {},
   "source": [
    "Again, using one-hot encoding to separate tags into their own columns."
   ]
  },
  {
   "cell_type": "code",
   "execution_count": 11,
   "metadata": {},
   "outputs": [
    {
     "output_type": "stream",
     "name": "stdout",
     "text": [
      "(1945, 340)\n"
     ]
    },
    {
     "output_type": "execute_result",
     "data": {
      "text/plain": [
       "          ID  1980s  1990's  2.5D  2D  2D Fighter  3D  3D Platformer  \\\n",
       "0     578080      0       0     0   0           0   0              0   \n",
       "1        570      0       0     0   0           0   0              0   \n",
       "2        730      0       0     0   0           0   0              0   \n",
       "3     359550      0       0     0   0           0   0              0   \n",
       "4     271590      0       0     0   0           0   0              0   \n",
       "...      ...    ...     ...   ...  ..         ...  ..            ...   \n",
       "1940   64000      0       0     0   0           0   0              0   \n",
       "1941  227860      0       0     0   0           0   0              0   \n",
       "1942  429050      0       0     0   0           0   0              0   \n",
       "1943  209650      0       0     0   0           0   0              0   \n",
       "1944  304730      0       0     0   0           0   0              0   \n",
       "\n",
       "      3D Vision  4 Player Local  ...  Warhammer 40K  Web Publishing  \\\n",
       "0             0               0  ...              0               0   \n",
       "1             0               0  ...              0               0   \n",
       "2             0               0  ...              0               0   \n",
       "3             0               0  ...              0               0   \n",
       "4             0               0  ...              0               0   \n",
       "...         ...             ...  ...            ...             ...   \n",
       "1940          0               0  ...              0               0   \n",
       "1941          0               0  ...              0               0   \n",
       "1942          0               0  ...              0               0   \n",
       "1943          0               0  ...              0               0   \n",
       "1944          0               0  ...              0               0   \n",
       "\n",
       "      Werewolves  Western  Word Game  World War I  World War II  Wrestling  \\\n",
       "0              0        0          0            0             0          0   \n",
       "1              0        0          0            0             0          0   \n",
       "2              0        0          0            0             0          0   \n",
       "3              0        0          0            0             0          0   \n",
       "4              0        0          0            0             0          0   \n",
       "...          ...      ...        ...          ...           ...        ...   \n",
       "1940           0        0          0            0             1          0   \n",
       "1941           0        0          0            0             0          0   \n",
       "1942           0        0          0            0             0          0   \n",
       "1943           0        0          0            0             0          0   \n",
       "1944           0        0          0            0             0          0   \n",
       "\n",
       "      Zombies  e-sports  \n",
       "0           0         0  \n",
       "1           0         1  \n",
       "2           0         1  \n",
       "3           0         0  \n",
       "4           0         0  \n",
       "...       ...       ...  \n",
       "1940        0         0  \n",
       "1941        0         0  \n",
       "1942        0         0  \n",
       "1943        0         0  \n",
       "1944        0         0  \n",
       "\n",
       "[1945 rows x 340 columns]"
      ],
      "text/html": "<div>\n<style scoped>\n    .dataframe tbody tr th:only-of-type {\n        vertical-align: middle;\n    }\n\n    .dataframe tbody tr th {\n        vertical-align: top;\n    }\n\n    .dataframe thead th {\n        text-align: right;\n    }\n</style>\n<table border=\"1\" class=\"dataframe\">\n  <thead>\n    <tr style=\"text-align: right;\">\n      <th></th>\n      <th>ID</th>\n      <th>1980s</th>\n      <th>1990's</th>\n      <th>2.5D</th>\n      <th>2D</th>\n      <th>2D Fighter</th>\n      <th>3D</th>\n      <th>3D Platformer</th>\n      <th>3D Vision</th>\n      <th>4 Player Local</th>\n      <th>...</th>\n      <th>Warhammer 40K</th>\n      <th>Web Publishing</th>\n      <th>Werewolves</th>\n      <th>Western</th>\n      <th>Word Game</th>\n      <th>World War I</th>\n      <th>World War II</th>\n      <th>Wrestling</th>\n      <th>Zombies</th>\n      <th>e-sports</th>\n    </tr>\n  </thead>\n  <tbody>\n    <tr>\n      <th>0</th>\n      <td>578080</td>\n      <td>0</td>\n      <td>0</td>\n      <td>0</td>\n      <td>0</td>\n      <td>0</td>\n      <td>0</td>\n      <td>0</td>\n      <td>0</td>\n      <td>0</td>\n      <td>...</td>\n      <td>0</td>\n      <td>0</td>\n      <td>0</td>\n      <td>0</td>\n      <td>0</td>\n      <td>0</td>\n      <td>0</td>\n      <td>0</td>\n      <td>0</td>\n      <td>0</td>\n    </tr>\n    <tr>\n      <th>1</th>\n      <td>570</td>\n      <td>0</td>\n      <td>0</td>\n      <td>0</td>\n      <td>0</td>\n      <td>0</td>\n      <td>0</td>\n      <td>0</td>\n      <td>0</td>\n      <td>0</td>\n      <td>...</td>\n      <td>0</td>\n      <td>0</td>\n      <td>0</td>\n      <td>0</td>\n      <td>0</td>\n      <td>0</td>\n      <td>0</td>\n      <td>0</td>\n      <td>0</td>\n      <td>1</td>\n    </tr>\n    <tr>\n      <th>2</th>\n      <td>730</td>\n      <td>0</td>\n      <td>0</td>\n      <td>0</td>\n      <td>0</td>\n      <td>0</td>\n      <td>0</td>\n      <td>0</td>\n      <td>0</td>\n      <td>0</td>\n      <td>...</td>\n      <td>0</td>\n      <td>0</td>\n      <td>0</td>\n      <td>0</td>\n      <td>0</td>\n      <td>0</td>\n      <td>0</td>\n      <td>0</td>\n      <td>0</td>\n      <td>1</td>\n    </tr>\n    <tr>\n      <th>3</th>\n      <td>359550</td>\n      <td>0</td>\n      <td>0</td>\n      <td>0</td>\n      <td>0</td>\n      <td>0</td>\n      <td>0</td>\n      <td>0</td>\n      <td>0</td>\n      <td>0</td>\n      <td>...</td>\n      <td>0</td>\n      <td>0</td>\n      <td>0</td>\n      <td>0</td>\n      <td>0</td>\n      <td>0</td>\n      <td>0</td>\n      <td>0</td>\n      <td>0</td>\n      <td>0</td>\n    </tr>\n    <tr>\n      <th>4</th>\n      <td>271590</td>\n      <td>0</td>\n      <td>0</td>\n      <td>0</td>\n      <td>0</td>\n      <td>0</td>\n      <td>0</td>\n      <td>0</td>\n      <td>0</td>\n      <td>0</td>\n      <td>...</td>\n      <td>0</td>\n      <td>0</td>\n      <td>0</td>\n      <td>0</td>\n      <td>0</td>\n      <td>0</td>\n      <td>0</td>\n      <td>0</td>\n      <td>0</td>\n      <td>0</td>\n    </tr>\n    <tr>\n      <th>...</th>\n      <td>...</td>\n      <td>...</td>\n      <td>...</td>\n      <td>...</td>\n      <td>...</td>\n      <td>...</td>\n      <td>...</td>\n      <td>...</td>\n      <td>...</td>\n      <td>...</td>\n      <td>...</td>\n      <td>...</td>\n      <td>...</td>\n      <td>...</td>\n      <td>...</td>\n      <td>...</td>\n      <td>...</td>\n      <td>...</td>\n      <td>...</td>\n      <td>...</td>\n      <td>...</td>\n    </tr>\n    <tr>\n      <th>1940</th>\n      <td>64000</td>\n      <td>0</td>\n      <td>0</td>\n      <td>0</td>\n      <td>0</td>\n      <td>0</td>\n      <td>0</td>\n      <td>0</td>\n      <td>0</td>\n      <td>0</td>\n      <td>...</td>\n      <td>0</td>\n      <td>0</td>\n      <td>0</td>\n      <td>0</td>\n      <td>0</td>\n      <td>0</td>\n      <td>1</td>\n      <td>0</td>\n      <td>0</td>\n      <td>0</td>\n    </tr>\n    <tr>\n      <th>1941</th>\n      <td>227860</td>\n      <td>0</td>\n      <td>0</td>\n      <td>0</td>\n      <td>0</td>\n      <td>0</td>\n      <td>0</td>\n      <td>0</td>\n      <td>0</td>\n      <td>0</td>\n      <td>...</td>\n      <td>0</td>\n      <td>0</td>\n      <td>0</td>\n      <td>0</td>\n      <td>0</td>\n      <td>0</td>\n      <td>0</td>\n      <td>0</td>\n      <td>0</td>\n      <td>0</td>\n    </tr>\n    <tr>\n      <th>1942</th>\n      <td>429050</td>\n      <td>0</td>\n      <td>0</td>\n      <td>0</td>\n      <td>0</td>\n      <td>0</td>\n      <td>0</td>\n      <td>0</td>\n      <td>0</td>\n      <td>0</td>\n      <td>...</td>\n      <td>0</td>\n      <td>0</td>\n      <td>0</td>\n      <td>0</td>\n      <td>0</td>\n      <td>0</td>\n      <td>0</td>\n      <td>0</td>\n      <td>0</td>\n      <td>0</td>\n    </tr>\n    <tr>\n      <th>1943</th>\n      <td>209650</td>\n      <td>0</td>\n      <td>0</td>\n      <td>0</td>\n      <td>0</td>\n      <td>0</td>\n      <td>0</td>\n      <td>0</td>\n      <td>0</td>\n      <td>0</td>\n      <td>...</td>\n      <td>0</td>\n      <td>0</td>\n      <td>0</td>\n      <td>0</td>\n      <td>0</td>\n      <td>0</td>\n      <td>0</td>\n      <td>0</td>\n      <td>0</td>\n      <td>0</td>\n    </tr>\n    <tr>\n      <th>1944</th>\n      <td>304730</td>\n      <td>0</td>\n      <td>0</td>\n      <td>0</td>\n      <td>0</td>\n      <td>0</td>\n      <td>0</td>\n      <td>0</td>\n      <td>0</td>\n      <td>0</td>\n      <td>...</td>\n      <td>0</td>\n      <td>0</td>\n      <td>0</td>\n      <td>0</td>\n      <td>0</td>\n      <td>0</td>\n      <td>0</td>\n      <td>0</td>\n      <td>0</td>\n      <td>0</td>\n    </tr>\n  </tbody>\n</table>\n<p>1945 rows × 340 columns</p>\n</div>"
     },
     "metadata": {},
     "execution_count": 11
    }
   ],
   "source": [
    "df_tags = df_tags.drop('Tags', 1).join(df_tags.Tags.str.join('|').str.get_dummies())\n",
    "print(df_tags.shape)\n",
    "df_tags"
   ]
  },
  {
   "cell_type": "markdown",
   "metadata": {},
   "source": [
    "Since the ID column is the consistent way of identifying the applications listed, we will merge all 3 datasets into 1 joint dataset to provide more accesibility for data analysis and exploration. \"df_genre\" has the lowest amount of observations, therefore, we will use its amount of observations as the lower bound for merging the datasets."
   ]
  },
  {
   "cell_type": "code",
   "execution_count": 12,
   "metadata": {},
   "outputs": [
    {
     "output_type": "execute_result",
     "data": {
      "text/plain": [
       "(1803, 369)"
      ]
     },
     "metadata": {},
     "execution_count": 12
    }
   ],
   "source": [
    "df_genre_tags = pd.merge(df_genre, df_tags,on='ID') # shape = (1825, 365) after merging\n",
    "combined_df = pd.merge(df_info, df_genre_tags, on='ID') # shape = (1803, 369) after merging\n",
    "combined_df.shape"
   ]
  },
  {
   "cell_type": "markdown",
   "metadata": {},
   "source": [
    "# Data Cleaning"
   ]
  },
  {
   "cell_type": "markdown",
   "metadata": {},
   "source": [
    "There are a lot of columns on our final dataset merge. Let's take a look at what those columns are and decide which are most valuable to our research question."
   ]
  },
  {
   "cell_type": "code",
   "execution_count": 13,
   "metadata": {},
   "outputs": [
    {
     "output_type": "stream",
     "name": "stdout",
     "text": [
      "['ID', 'type', 'name', 'releasedate', 'freetoplay', 'Action_x', 'Adventure_x', 'Animation & Modeling_x', 'Audio Production_x', 'Casual_x', 'Design & Illustration_x', 'Early Access_x', 'Education_x', 'Free to Play_x', 'Gore_x', 'Indie_x', 'Massively Multiplayer_x', 'Nudity_x', 'Photo Editing_x', 'RPG_x', 'Racing_x', 'Sexual Content_x', 'Simulation_x', 'Software Training_x', 'Sports_x', 'Strategy_x', 'Utilities_x', 'Video Production_x', 'Violent_x', 'Web Publishing_x', '1980s', \"1990's\", '2.5D', '2D', '2D Fighter', '3D', '3D Platformer', '3D Vision', '4 Player Local', '4X', '6DOF', 'Abstract', 'Action_y', 'Action RPG', 'Action-Adventure', 'Addictive', 'Adventure_y', 'Agriculture', 'Aliens', 'Alternate History', 'America', 'Animation & Modeling_y', 'Anime', 'Arcade', 'Arena Shooter', 'Artificial Intelligence', 'Assassin', 'Asynchronous Multiplayer', 'Atmospheric', 'Audio Production_y', 'Base-Building', 'Based On A Novel', 'Basketball', 'Batman', 'Battle Royale', \"Beat 'em up\", 'Beautiful', 'Benchmark', 'Bikes', 'Blood', 'Board Game', 'Bowling', 'Building', 'Bullet Hell', 'Bullet Time', 'CRPG', 'Capitalism', 'Card Game', 'Cartoon', 'Cartoony', 'Casual_y', 'Character Action Game', 'Character Customization', 'Chess', 'Choices Matter', 'Choose Your Own Adventure', 'Cinematic', 'City Builder', 'Class-Based', 'Classic', 'Clicker', 'Co-op', 'Co-op Campaign', 'Cold War', 'Colorful', 'Comedy', 'Comic Book', 'Competitive', 'Conspiracy', 'Controller', 'Crafting', 'Crime', 'Crowdfunded', 'Cult Classic', 'Cute', 'Cyberpunk', 'Cycling', 'Dark', 'Dark Comedy', 'Dark Fantasy', 'Dark Humor', 'Dating Sim', 'Demons', 'Design & Illustration_y', 'Destruction', 'Detective', 'Difficult', 'Dinosaurs', 'Diplomacy', 'Dog', 'Dragons', 'Drama', 'Driving', 'Dungeon Crawler', 'Dungeons & Dragons', 'Dynamic Narration', 'Dystopian ', 'Early Access_y', 'Economy', 'Education_y', 'Emotional', 'Epic', 'Episodic', 'Experimental', 'Exploration', 'FMV', 'FPS', 'Faith', 'Family Friendly', 'Fantasy', 'Fast-Paced', 'Female Protagonist', 'Fighting', 'First-Person', 'Fishing', 'Flight', 'Football', 'Free to Play_y', 'Funny', 'Futuristic', 'Gambling', 'Game Development', 'GameMaker', 'Games Workshop', 'God Game', 'Golf', 'Gore_y', 'Gothic', 'Grand Strategy', 'Great Soundtrack', 'Grid-Based Movement', 'Gun Customization', 'Hack and Slash', 'Hacking', 'Hand-drawn', 'Heist', 'Hex Grid', 'Hidden Object', 'Historical', 'Horror', 'Horses', 'Hunting', 'Illuminati', 'Indie_y', 'Intentionally Awkward Controls', 'Interactive Fiction', 'Inventory Management', 'Investigation', 'Isometric', 'JRPG', 'Kickstarter', 'LEGO', 'Lara Croft', 'Level Editor', 'Linear', 'Local Co-Op', 'Local Multiplayer', 'Logic', 'Loot', 'Lore-Rich', 'Lovecraftian', 'MMORPG', 'MOBA', 'Magic', 'Management', 'Mars', 'Martial Arts', 'Massively Multiplayer_y', 'Masterpiece', 'Match 3', 'Mature', 'Mechs', 'Medieval', 'Memes', 'Metroidvania', 'Military', 'Mini Golf', 'Minimalist', 'Mining', 'Mod', 'Moddable', 'Modern', 'Mouse only', 'Movie', 'Multiplayer', 'Multiple Endings', 'Music', 'Music-Based Procedural Generation', 'Mystery', 'Mythology', 'NSFW', 'Narration', 'Naval', 'Ninja', 'Noir', 'Nonlinear', 'Nudity_y', 'Offroad', 'Old School', 'On-Rails Shooter', 'Online Co-Op', 'Open World', 'Otome', 'Parkour', 'Parody ', 'Party-Based RPG', 'Perma Death', 'Philisophical', 'Photo Editing_y', 'Physics', 'Pinball', 'Pirates', 'Pixel Graphics', 'Platformer', 'Point & Click', 'Political', 'Politics', 'Post-apocalyptic', 'Procedural Generation', 'Programming', 'Psychedelic', 'Psychological', 'Psychological Horror', 'Puzzle', 'Puzzle-Platformer', 'PvE', 'PvP', 'Quick-Time Events', 'RPG_y', 'RPGMaker', 'RTS', 'Racing_y', 'Real Time Tactics', 'Real-Time', 'Real-Time with Pause', 'Realistic', 'Relaxing', 'Remake', 'Replay Value', 'Resource Management', 'Retro', 'Rhythm', 'Robots', 'Rogue-like', 'Rogue-lite', 'Romance', 'Rome', 'Runner', 'Sailing', 'Sandbox', 'Satire', 'Sci-fi', 'Science', 'Score Attack', 'Sequel', 'Sexual Content_y', \"Shoot 'Em Up\", 'Shooter', 'Short', 'Side Scroller', 'Silent Protagonist', 'Simulation_y', 'Singleplayer', 'Sniper', 'Soccer', 'Software', 'Software Training_y', 'Souls-like', 'Soundtrack', 'Space', 'Space Sim', 'Spectacle fighter', 'Split Screen', 'Sports_y', 'Star Wars', 'Stealth', 'Steampunk', 'Story Rich', 'Strategy_y', 'Strategy RPG', 'Stylized', 'Superhero', 'Supernatural', 'Surreal', 'Survival', 'Survival Horror', 'Swordplay', 'Tactical', 'Tactical RPG', 'Tanks', 'Team-Based', 'Text-Based', 'Third Person', 'Third-Person Shooter', 'Thriller', 'Time Attack', 'Time Management', 'Time Manipulation', 'Time Travel', 'Top-Down', 'Top-Down Shooter', 'Touch-Friendly', 'Tower Defense', 'TrackIR', 'Trading', 'Trading Card Game', 'Trains', 'Transhumanism', 'Turn-Based', 'Turn-Based Combat', 'Turn-Based Strategy', 'Turn-Based Tactics', 'Tutorial', 'Twin Stick Shooter', 'Typing', 'Underwater', 'Unforgiving', 'Utilities_y', 'VR', 'VR Only', 'Vampire', 'Video Production_y', 'Villain Protagonist', 'Violent_y', 'Visual Novel', 'Voxel', 'Walking Simulator', 'War', 'Wargame', 'Warhammer 40K', 'Web Publishing_y', 'Werewolves', 'Western', 'Word Game', 'World War I', 'World War II', 'Wrestling', 'Zombies', 'e-sports']\n"
     ]
    }
   ],
   "source": [
    "print(list(combined_df.columns))"
   ]
  },
  {
   "cell_type": "markdown",
   "metadata": {},
   "source": [
    "Looking at all the genres and tags we got from combining the 3 data sets, we decided to stick to only ['ID', 'type', 'name', 'releasedate', 'freetoplay', 'Free to Play_x', 'Massively Multiplayer_x', 'Asynchronous Multiplayer', 'Casual_y', 'Co-op', 'Co-op Campaign', 'Competitive', 'Free to Play_y', 'Local Co-Op', 'Local Multiplayer', 'Massively Multiplayer_y', 'Multiplayer', 'Online Co-Op', 'Party-Based RPG', 'PvE', 'PvP', 'RPG_x', 'RPG_y', 'Replay Value', 'Singleplayer']. The reason we chose to do so is because we believe these features may be directly related to our research questions or may be confounders to the variables we may be investigating for our research questions."
   ]
  },
  {
   "cell_type": "code",
   "execution_count": 14,
   "metadata": {},
   "outputs": [
    {
     "output_type": "execute_result",
     "data": {
      "text/plain": [
       "          ID  type                              name releasedate  freetoplay  \\\n",
       "0     578080  game     PLAYERUNKNOWN'S BATTLEGROUNDS   21-Dec-17         0.0   \n",
       "1        570  game                            Dota 2    9-Jul-13         1.0   \n",
       "2        730  game  Counter-Strike: Global Offensive   21-Aug-12         1.0   \n",
       "3     359550  game    Tom Clancy's Rainbow Six Siege    1-Dec-15         0.0   \n",
       "4     271590  game                Grand Theft Auto V   13-Apr-15         0.0   \n",
       "...      ...   ...                               ...         ...         ...   \n",
       "1798   64000  game         Men of War: Assault Squad   24-Feb-11         0.0   \n",
       "1799  227860  game                      Castle Story   17-Aug-17         0.0   \n",
       "1800  429050  game               Feed and Grow: Fish    8-Jan-16         0.0   \n",
       "1801  209650  game    Call of Duty: Advanced Warfare    3-Nov-14         0.0   \n",
       "1802  304730  game                       Train Fever    4-Sep-14         0.0   \n",
       "\n",
       "      Free to Play_x  Massively Multiplayer_x  Asynchronous Multiplayer  \\\n",
       "0                  0                        1                         0   \n",
       "1                  1                        0                         0   \n",
       "2                  1                        0                         0   \n",
       "3                  0                        0                         0   \n",
       "4                  0                        0                         0   \n",
       "...              ...                      ...                       ...   \n",
       "1798               0                        0                         0   \n",
       "1799               0                        0                         0   \n",
       "1800               0                        0                         0   \n",
       "1801               0                        0                         0   \n",
       "1802               0                        0                         0   \n",
       "\n",
       "      Casual_y  Co-op  ...  Massively Multiplayer_y  Multiplayer  \\\n",
       "0            0      1  ...                        0            1   \n",
       "1            0      1  ...                        0            1   \n",
       "2            0      1  ...                        0            1   \n",
       "3            1      1  ...                        1            1   \n",
       "4            0      1  ...                        0            1   \n",
       "...        ...    ...  ...                      ...          ...   \n",
       "1798         0      1  ...                        0            1   \n",
       "1799         1      1  ...                        0            1   \n",
       "1800         0      1  ...                        0            1   \n",
       "1801         0      1  ...                        0            1   \n",
       "1802         1      0  ...                        0            0   \n",
       "\n",
       "      Online Co-Op  Party-Based RPG  PvE  PvP  RPG_x  RPG_y  Replay Value  \\\n",
       "0                1                0    0    1      0      0             0   \n",
       "1                1                0    0    1      0      1             1   \n",
       "2                1                0    0    1      0      0             0   \n",
       "3                1                0    0    0      0      0             0   \n",
       "4                0                0    0    0      0      1             0   \n",
       "...            ...              ...  ...  ...    ...    ...           ...   \n",
       "1798             0                0    0    0      0      0             0   \n",
       "1799             0                0    0    0      0      0             0   \n",
       "1800             0                0    0    0      0      0             0   \n",
       "1801             1                0    0    1      0      0             0   \n",
       "1802             0                0    0    0      0      0             0   \n",
       "\n",
       "      Singleplayer  \n",
       "0                0  \n",
       "1                0  \n",
       "2                0  \n",
       "3                1  \n",
       "4                1  \n",
       "...            ...  \n",
       "1798             1  \n",
       "1799             1  \n",
       "1800             1  \n",
       "1801             1  \n",
       "1802             1  \n",
       "\n",
       "[1803 rows x 25 columns]"
      ],
      "text/html": "<div>\n<style scoped>\n    .dataframe tbody tr th:only-of-type {\n        vertical-align: middle;\n    }\n\n    .dataframe tbody tr th {\n        vertical-align: top;\n    }\n\n    .dataframe thead th {\n        text-align: right;\n    }\n</style>\n<table border=\"1\" class=\"dataframe\">\n  <thead>\n    <tr style=\"text-align: right;\">\n      <th></th>\n      <th>ID</th>\n      <th>type</th>\n      <th>name</th>\n      <th>releasedate</th>\n      <th>freetoplay</th>\n      <th>Free to Play_x</th>\n      <th>Massively Multiplayer_x</th>\n      <th>Asynchronous Multiplayer</th>\n      <th>Casual_y</th>\n      <th>Co-op</th>\n      <th>...</th>\n      <th>Massively Multiplayer_y</th>\n      <th>Multiplayer</th>\n      <th>Online Co-Op</th>\n      <th>Party-Based RPG</th>\n      <th>PvE</th>\n      <th>PvP</th>\n      <th>RPG_x</th>\n      <th>RPG_y</th>\n      <th>Replay Value</th>\n      <th>Singleplayer</th>\n    </tr>\n  </thead>\n  <tbody>\n    <tr>\n      <th>0</th>\n      <td>578080</td>\n      <td>game</td>\n      <td>PLAYERUNKNOWN'S BATTLEGROUNDS</td>\n      <td>21-Dec-17</td>\n      <td>0.0</td>\n      <td>0</td>\n      <td>1</td>\n      <td>0</td>\n      <td>0</td>\n      <td>1</td>\n      <td>...</td>\n      <td>0</td>\n      <td>1</td>\n      <td>1</td>\n      <td>0</td>\n      <td>0</td>\n      <td>1</td>\n      <td>0</td>\n      <td>0</td>\n      <td>0</td>\n      <td>0</td>\n    </tr>\n    <tr>\n      <th>1</th>\n      <td>570</td>\n      <td>game</td>\n      <td>Dota 2</td>\n      <td>9-Jul-13</td>\n      <td>1.0</td>\n      <td>1</td>\n      <td>0</td>\n      <td>0</td>\n      <td>0</td>\n      <td>1</td>\n      <td>...</td>\n      <td>0</td>\n      <td>1</td>\n      <td>1</td>\n      <td>0</td>\n      <td>0</td>\n      <td>1</td>\n      <td>0</td>\n      <td>1</td>\n      <td>1</td>\n      <td>0</td>\n    </tr>\n    <tr>\n      <th>2</th>\n      <td>730</td>\n      <td>game</td>\n      <td>Counter-Strike: Global Offensive</td>\n      <td>21-Aug-12</td>\n      <td>1.0</td>\n      <td>1</td>\n      <td>0</td>\n      <td>0</td>\n      <td>0</td>\n      <td>1</td>\n      <td>...</td>\n      <td>0</td>\n      <td>1</td>\n      <td>1</td>\n      <td>0</td>\n      <td>0</td>\n      <td>1</td>\n      <td>0</td>\n      <td>0</td>\n      <td>0</td>\n      <td>0</td>\n    </tr>\n    <tr>\n      <th>3</th>\n      <td>359550</td>\n      <td>game</td>\n      <td>Tom Clancy's Rainbow Six Siege</td>\n      <td>1-Dec-15</td>\n      <td>0.0</td>\n      <td>0</td>\n      <td>0</td>\n      <td>0</td>\n      <td>1</td>\n      <td>1</td>\n      <td>...</td>\n      <td>1</td>\n      <td>1</td>\n      <td>1</td>\n      <td>0</td>\n      <td>0</td>\n      <td>0</td>\n      <td>0</td>\n      <td>0</td>\n      <td>0</td>\n      <td>1</td>\n    </tr>\n    <tr>\n      <th>4</th>\n      <td>271590</td>\n      <td>game</td>\n      <td>Grand Theft Auto V</td>\n      <td>13-Apr-15</td>\n      <td>0.0</td>\n      <td>0</td>\n      <td>0</td>\n      <td>0</td>\n      <td>0</td>\n      <td>1</td>\n      <td>...</td>\n      <td>0</td>\n      <td>1</td>\n      <td>0</td>\n      <td>0</td>\n      <td>0</td>\n      <td>0</td>\n      <td>0</td>\n      <td>1</td>\n      <td>0</td>\n      <td>1</td>\n    </tr>\n    <tr>\n      <th>...</th>\n      <td>...</td>\n      <td>...</td>\n      <td>...</td>\n      <td>...</td>\n      <td>...</td>\n      <td>...</td>\n      <td>...</td>\n      <td>...</td>\n      <td>...</td>\n      <td>...</td>\n      <td>...</td>\n      <td>...</td>\n      <td>...</td>\n      <td>...</td>\n      <td>...</td>\n      <td>...</td>\n      <td>...</td>\n      <td>...</td>\n      <td>...</td>\n      <td>...</td>\n      <td>...</td>\n    </tr>\n    <tr>\n      <th>1798</th>\n      <td>64000</td>\n      <td>game</td>\n      <td>Men of War: Assault Squad</td>\n      <td>24-Feb-11</td>\n      <td>0.0</td>\n      <td>0</td>\n      <td>0</td>\n      <td>0</td>\n      <td>0</td>\n      <td>1</td>\n      <td>...</td>\n      <td>0</td>\n      <td>1</td>\n      <td>0</td>\n      <td>0</td>\n      <td>0</td>\n      <td>0</td>\n      <td>0</td>\n      <td>0</td>\n      <td>0</td>\n      <td>1</td>\n    </tr>\n    <tr>\n      <th>1799</th>\n      <td>227860</td>\n      <td>game</td>\n      <td>Castle Story</td>\n      <td>17-Aug-17</td>\n      <td>0.0</td>\n      <td>0</td>\n      <td>0</td>\n      <td>0</td>\n      <td>1</td>\n      <td>1</td>\n      <td>...</td>\n      <td>0</td>\n      <td>1</td>\n      <td>0</td>\n      <td>0</td>\n      <td>0</td>\n      <td>0</td>\n      <td>0</td>\n      <td>0</td>\n      <td>0</td>\n      <td>1</td>\n    </tr>\n    <tr>\n      <th>1800</th>\n      <td>429050</td>\n      <td>game</td>\n      <td>Feed and Grow: Fish</td>\n      <td>8-Jan-16</td>\n      <td>0.0</td>\n      <td>0</td>\n      <td>0</td>\n      <td>0</td>\n      <td>0</td>\n      <td>1</td>\n      <td>...</td>\n      <td>0</td>\n      <td>1</td>\n      <td>0</td>\n      <td>0</td>\n      <td>0</td>\n      <td>0</td>\n      <td>0</td>\n      <td>0</td>\n      <td>0</td>\n      <td>1</td>\n    </tr>\n    <tr>\n      <th>1801</th>\n      <td>209650</td>\n      <td>game</td>\n      <td>Call of Duty: Advanced Warfare</td>\n      <td>3-Nov-14</td>\n      <td>0.0</td>\n      <td>0</td>\n      <td>0</td>\n      <td>0</td>\n      <td>0</td>\n      <td>1</td>\n      <td>...</td>\n      <td>0</td>\n      <td>1</td>\n      <td>1</td>\n      <td>0</td>\n      <td>0</td>\n      <td>1</td>\n      <td>0</td>\n      <td>0</td>\n      <td>0</td>\n      <td>1</td>\n    </tr>\n    <tr>\n      <th>1802</th>\n      <td>304730</td>\n      <td>game</td>\n      <td>Train Fever</td>\n      <td>4-Sep-14</td>\n      <td>0.0</td>\n      <td>0</td>\n      <td>0</td>\n      <td>0</td>\n      <td>1</td>\n      <td>0</td>\n      <td>...</td>\n      <td>0</td>\n      <td>0</td>\n      <td>0</td>\n      <td>0</td>\n      <td>0</td>\n      <td>0</td>\n      <td>0</td>\n      <td>0</td>\n      <td>0</td>\n      <td>1</td>\n    </tr>\n  </tbody>\n</table>\n<p>1803 rows × 25 columns</p>\n</div>"
     },
     "metadata": {},
     "execution_count": 14
    }
   ],
   "source": [
    "combined_reduced = combined_df[['ID', 'type', 'name', 'releasedate', 'freetoplay', 'Free to Play_x', 'Massively Multiplayer_x', 'Asynchronous Multiplayer', 'Casual_y', 'Co-op', 'Co-op Campaign', 'Competitive', 'Free to Play_y', 'Local Co-Op', 'Local Multiplayer', 'Massively Multiplayer_y', 'Multiplayer', 'Online Co-Op', 'Party-Based RPG', 'PvE', 'PvP', 'RPG_x', 'RPG_y', 'Replay Value', 'Singleplayer']]\n",
    "#print(combined_reduced['Free to Play_y'])\n",
    "combined_reduced"
   ]
  },
  {
   "source": [
    "Looking at the remaining columns, we decide to drop the \"type\" column due to it having only one type which is \"game.\" Duplicated columns resulted from the merge will also be joined."
   ],
   "cell_type": "markdown",
   "metadata": {}
  },
  {
   "cell_type": "code",
   "execution_count": 15,
   "metadata": {},
   "outputs": [
    {
     "output_type": "stream",
     "name": "stderr",
     "text": [
      "/Users/thuytee/opt/anaconda3/lib/python3.8/site-packages/pandas/core/frame.py:3990: SettingWithCopyWarning: \nA value is trying to be set on a copy of a slice from a DataFrame\n\nSee the caveats in the documentation: https://pandas.pydata.org/pandas-docs/stable/user_guide/indexing.html#returning-a-view-versus-a-copy\n  return super().drop(\n"
     ]
    }
   ],
   "source": [
    "combined_reduced.drop('type', inplace=True, axis=1) # dropping type column"
   ]
  },
  {
   "cell_type": "code",
   "execution_count": 16,
   "metadata": {},
   "outputs": [
    {
     "output_type": "execute_result",
     "data": {
      "text/plain": [
       "          ID                                  name releasedate  freetoplay  \\\n",
       "126   219740                          Don't Starve         NaN         0.0   \n",
       "823   272230                              Sub Rosa         NaN         0.0   \n",
       "829   224540                         Ace of Spades         NaN         1.0   \n",
       "938   223850                                3DMark         NaN         0.0   \n",
       "943   212480  Sonic & All-Stars Racing Transformed         NaN         0.0   \n",
       "978   237110        Mortal Kombat Komplete Edition         NaN         0.0   \n",
       "1234  564310        Serious Sam Fusion 2017 (beta)         NaN         0.0   \n",
       "1268  214560                     Mark of the Ninja         NaN         1.0   \n",
       "1271  202170                        Sleeping Dogs�         NaN         1.0   \n",
       "1570   39550    SpellForce 2 - Anniversary Edition         NaN         0.0   \n",
       "1595   40960                          Stronghold 2         NaN         0.0   \n",
       "\n",
       "      Free to Play_x  Massively Multiplayer_x  Asynchronous Multiplayer  \\\n",
       "126                0                        0                         0   \n",
       "823                0                        0                         0   \n",
       "829                0                        0                         0   \n",
       "938                0                        0                         0   \n",
       "943                0                        0                         0   \n",
       "978                0                        0                         0   \n",
       "1234               0                        0                         0   \n",
       "1268               0                        0                         0   \n",
       "1271               0                        0                         0   \n",
       "1570               0                        0                         0   \n",
       "1595               0                        0                         0   \n",
       "\n",
       "      Casual_y  Co-op  Co-op Campaign  ...  Massively Multiplayer_y  \\\n",
       "126          0      0               0  ...                        0   \n",
       "823          1      1               0  ...                        1   \n",
       "829          1      1               0  ...                        1   \n",
       "938          0      0               0  ...                        0   \n",
       "943          0      1               0  ...                        0   \n",
       "978          0      1               0  ...                        0   \n",
       "1234         0      1               0  ...                        0   \n",
       "1268         1      0               0  ...                        0   \n",
       "1271         0      0               0  ...                        0   \n",
       "1570         0      0               0  ...                        0   \n",
       "1595         0      0               0  ...                        0   \n",
       "\n",
       "      Multiplayer  Online Co-Op  Party-Based RPG  PvE  PvP  RPG_x  RPG_y  \\\n",
       "126             1             0                0    0    0      0      0   \n",
       "823             1             1                0    0    0      0      0   \n",
       "829             1             0                0    0    0      0      0   \n",
       "938             0             0                0    0    0      0      0   \n",
       "943             1             1                0    0    0      0      0   \n",
       "978             1             0                0    0    0      0      0   \n",
       "1234            1             0                0    0    0      0      0   \n",
       "1268            0             0                0    0    0      0      0   \n",
       "1271            1             0                0    0    0      0      1   \n",
       "1570            0             0                0    0    0      1      1   \n",
       "1595            1             0                0    0    0      0      0   \n",
       "\n",
       "      Replay Value  Singleplayer  \n",
       "126              1             1  \n",
       "823              0             0  \n",
       "829              1             0  \n",
       "938              0             0  \n",
       "943              1             1  \n",
       "978              1             1  \n",
       "1234             0             1  \n",
       "1268             1             1  \n",
       "1271             0             1  \n",
       "1570             0             1  \n",
       "1595             0             1  \n",
       "\n",
       "[11 rows x 24 columns]"
      ],
      "text/html": "<div>\n<style scoped>\n    .dataframe tbody tr th:only-of-type {\n        vertical-align: middle;\n    }\n\n    .dataframe tbody tr th {\n        vertical-align: top;\n    }\n\n    .dataframe thead th {\n        text-align: right;\n    }\n</style>\n<table border=\"1\" class=\"dataframe\">\n  <thead>\n    <tr style=\"text-align: right;\">\n      <th></th>\n      <th>ID</th>\n      <th>name</th>\n      <th>releasedate</th>\n      <th>freetoplay</th>\n      <th>Free to Play_x</th>\n      <th>Massively Multiplayer_x</th>\n      <th>Asynchronous Multiplayer</th>\n      <th>Casual_y</th>\n      <th>Co-op</th>\n      <th>Co-op Campaign</th>\n      <th>...</th>\n      <th>Massively Multiplayer_y</th>\n      <th>Multiplayer</th>\n      <th>Online Co-Op</th>\n      <th>Party-Based RPG</th>\n      <th>PvE</th>\n      <th>PvP</th>\n      <th>RPG_x</th>\n      <th>RPG_y</th>\n      <th>Replay Value</th>\n      <th>Singleplayer</th>\n    </tr>\n  </thead>\n  <tbody>\n    <tr>\n      <th>126</th>\n      <td>219740</td>\n      <td>Don't Starve</td>\n      <td>NaN</td>\n      <td>0.0</td>\n      <td>0</td>\n      <td>0</td>\n      <td>0</td>\n      <td>0</td>\n      <td>0</td>\n      <td>0</td>\n      <td>...</td>\n      <td>0</td>\n      <td>1</td>\n      <td>0</td>\n      <td>0</td>\n      <td>0</td>\n      <td>0</td>\n      <td>0</td>\n      <td>0</td>\n      <td>1</td>\n      <td>1</td>\n    </tr>\n    <tr>\n      <th>823</th>\n      <td>272230</td>\n      <td>Sub Rosa</td>\n      <td>NaN</td>\n      <td>0.0</td>\n      <td>0</td>\n      <td>0</td>\n      <td>0</td>\n      <td>1</td>\n      <td>1</td>\n      <td>0</td>\n      <td>...</td>\n      <td>1</td>\n      <td>1</td>\n      <td>1</td>\n      <td>0</td>\n      <td>0</td>\n      <td>0</td>\n      <td>0</td>\n      <td>0</td>\n      <td>0</td>\n      <td>0</td>\n    </tr>\n    <tr>\n      <th>829</th>\n      <td>224540</td>\n      <td>Ace of Spades</td>\n      <td>NaN</td>\n      <td>1.0</td>\n      <td>0</td>\n      <td>0</td>\n      <td>0</td>\n      <td>1</td>\n      <td>1</td>\n      <td>0</td>\n      <td>...</td>\n      <td>1</td>\n      <td>1</td>\n      <td>0</td>\n      <td>0</td>\n      <td>0</td>\n      <td>0</td>\n      <td>0</td>\n      <td>0</td>\n      <td>1</td>\n      <td>0</td>\n    </tr>\n    <tr>\n      <th>938</th>\n      <td>223850</td>\n      <td>3DMark</td>\n      <td>NaN</td>\n      <td>0.0</td>\n      <td>0</td>\n      <td>0</td>\n      <td>0</td>\n      <td>0</td>\n      <td>0</td>\n      <td>0</td>\n      <td>...</td>\n      <td>0</td>\n      <td>0</td>\n      <td>0</td>\n      <td>0</td>\n      <td>0</td>\n      <td>0</td>\n      <td>0</td>\n      <td>0</td>\n      <td>0</td>\n      <td>0</td>\n    </tr>\n    <tr>\n      <th>943</th>\n      <td>212480</td>\n      <td>Sonic &amp; All-Stars Racing Transformed</td>\n      <td>NaN</td>\n      <td>0.0</td>\n      <td>0</td>\n      <td>0</td>\n      <td>0</td>\n      <td>0</td>\n      <td>1</td>\n      <td>0</td>\n      <td>...</td>\n      <td>0</td>\n      <td>1</td>\n      <td>1</td>\n      <td>0</td>\n      <td>0</td>\n      <td>0</td>\n      <td>0</td>\n      <td>0</td>\n      <td>1</td>\n      <td>1</td>\n    </tr>\n    <tr>\n      <th>978</th>\n      <td>237110</td>\n      <td>Mortal Kombat Komplete Edition</td>\n      <td>NaN</td>\n      <td>0.0</td>\n      <td>0</td>\n      <td>0</td>\n      <td>0</td>\n      <td>0</td>\n      <td>1</td>\n      <td>0</td>\n      <td>...</td>\n      <td>0</td>\n      <td>1</td>\n      <td>0</td>\n      <td>0</td>\n      <td>0</td>\n      <td>0</td>\n      <td>0</td>\n      <td>0</td>\n      <td>1</td>\n      <td>1</td>\n    </tr>\n    <tr>\n      <th>1234</th>\n      <td>564310</td>\n      <td>Serious Sam Fusion 2017 (beta)</td>\n      <td>NaN</td>\n      <td>0.0</td>\n      <td>0</td>\n      <td>0</td>\n      <td>0</td>\n      <td>0</td>\n      <td>1</td>\n      <td>0</td>\n      <td>...</td>\n      <td>0</td>\n      <td>1</td>\n      <td>0</td>\n      <td>0</td>\n      <td>0</td>\n      <td>0</td>\n      <td>0</td>\n      <td>0</td>\n      <td>0</td>\n      <td>1</td>\n    </tr>\n    <tr>\n      <th>1268</th>\n      <td>214560</td>\n      <td>Mark of the Ninja</td>\n      <td>NaN</td>\n      <td>1.0</td>\n      <td>0</td>\n      <td>0</td>\n      <td>0</td>\n      <td>1</td>\n      <td>0</td>\n      <td>0</td>\n      <td>...</td>\n      <td>0</td>\n      <td>0</td>\n      <td>0</td>\n      <td>0</td>\n      <td>0</td>\n      <td>0</td>\n      <td>0</td>\n      <td>0</td>\n      <td>1</td>\n      <td>1</td>\n    </tr>\n    <tr>\n      <th>1271</th>\n      <td>202170</td>\n      <td>Sleeping Dogs�</td>\n      <td>NaN</td>\n      <td>1.0</td>\n      <td>0</td>\n      <td>0</td>\n      <td>0</td>\n      <td>0</td>\n      <td>0</td>\n      <td>0</td>\n      <td>...</td>\n      <td>0</td>\n      <td>1</td>\n      <td>0</td>\n      <td>0</td>\n      <td>0</td>\n      <td>0</td>\n      <td>0</td>\n      <td>1</td>\n      <td>0</td>\n      <td>1</td>\n    </tr>\n    <tr>\n      <th>1570</th>\n      <td>39550</td>\n      <td>SpellForce 2 - Anniversary Edition</td>\n      <td>NaN</td>\n      <td>0.0</td>\n      <td>0</td>\n      <td>0</td>\n      <td>0</td>\n      <td>0</td>\n      <td>0</td>\n      <td>0</td>\n      <td>...</td>\n      <td>0</td>\n      <td>0</td>\n      <td>0</td>\n      <td>0</td>\n      <td>0</td>\n      <td>0</td>\n      <td>1</td>\n      <td>1</td>\n      <td>0</td>\n      <td>1</td>\n    </tr>\n    <tr>\n      <th>1595</th>\n      <td>40960</td>\n      <td>Stronghold 2</td>\n      <td>NaN</td>\n      <td>0.0</td>\n      <td>0</td>\n      <td>0</td>\n      <td>0</td>\n      <td>0</td>\n      <td>0</td>\n      <td>0</td>\n      <td>...</td>\n      <td>0</td>\n      <td>1</td>\n      <td>0</td>\n      <td>0</td>\n      <td>0</td>\n      <td>0</td>\n      <td>0</td>\n      <td>0</td>\n      <td>0</td>\n      <td>1</td>\n    </tr>\n  </tbody>\n</table>\n<p>11 rows × 24 columns</p>\n</div>"
     },
     "metadata": {},
     "execution_count": 16
    }
   ],
   "source": [
    "var_missing = combined_reduced.isna().any().sum()\n",
    "combined_reduced[combined_reduced['releasedate'].isna()]"
   ]
  },
  {
   "cell_type": "code",
   "execution_count": 17,
   "metadata": {},
   "outputs": [
    {
     "output_type": "stream",
     "name": "stderr",
     "text": [
      "<ipython-input-17-ae45e1d7a509>:1: SettingWithCopyWarning: \nA value is trying to be set on a copy of a slice from a DataFrame.\nTry using .loc[row_indexer,col_indexer] = value instead\n\nSee the caveats in the documentation: https://pandas.pydata.org/pandas-docs/stable/user_guide/indexing.html#returning-a-view-versus-a-copy\n  combined_reduced['freetoplay'] = combined_reduced['freetoplay'].astype('bool')\n<ipython-input-17-ae45e1d7a509>:2: SettingWithCopyWarning: \nA value is trying to be set on a copy of a slice from a DataFrame.\nTry using .loc[row_indexer,col_indexer] = value instead\n\nSee the caveats in the documentation: https://pandas.pydata.org/pandas-docs/stable/user_guide/indexing.html#returning-a-view-versus-a-copy\n  combined_reduced['Free to Play_x'] = combined_reduced['Free to Play_x'].astype('bool')\n<ipython-input-17-ae45e1d7a509>:3: SettingWithCopyWarning: \nA value is trying to be set on a copy of a slice from a DataFrame.\nTry using .loc[row_indexer,col_indexer] = value instead\n\nSee the caveats in the documentation: https://pandas.pydata.org/pandas-docs/stable/user_guide/indexing.html#returning-a-view-versus-a-copy\n  combined_reduced['Free to Play_y'] = combined_reduced['Free to Play_y'].astype('bool')\n"
     ]
    },
    {
     "output_type": "execute_result",
     "data": {
      "text/plain": [
       "          ID                              name releasedate  freetoplay  \\\n",
       "0     578080     PLAYERUNKNOWN'S BATTLEGROUNDS   21-Dec-17       False   \n",
       "1        570                            Dota 2    9-Jul-13        True   \n",
       "2        730  Counter-Strike: Global Offensive   21-Aug-12        True   \n",
       "3     359550    Tom Clancy's Rainbow Six Siege    1-Dec-15       False   \n",
       "4     271590                Grand Theft Auto V   13-Apr-15       False   \n",
       "...      ...                               ...         ...         ...   \n",
       "1798   64000         Men of War: Assault Squad   24-Feb-11       False   \n",
       "1799  227860                      Castle Story   17-Aug-17       False   \n",
       "1800  429050               Feed and Grow: Fish    8-Jan-16       False   \n",
       "1801  209650    Call of Duty: Advanced Warfare    3-Nov-14       False   \n",
       "1802  304730                       Train Fever    4-Sep-14       False   \n",
       "\n",
       "      Free to Play_x  Massively Multiplayer_x  Asynchronous Multiplayer  \\\n",
       "0              False                        1                         0   \n",
       "1               True                        0                         0   \n",
       "2               True                        0                         0   \n",
       "3              False                        0                         0   \n",
       "4              False                        0                         0   \n",
       "...              ...                      ...                       ...   \n",
       "1798           False                        0                         0   \n",
       "1799           False                        0                         0   \n",
       "1800           False                        0                         0   \n",
       "1801           False                        0                         0   \n",
       "1802           False                        0                         0   \n",
       "\n",
       "      Casual_y  Co-op  Co-op Campaign  ...  Multiplayer  Online Co-Op  \\\n",
       "0            0      1               0  ...            1             1   \n",
       "1            0      1               0  ...            1             1   \n",
       "2            0      1               0  ...            1             1   \n",
       "3            1      1               0  ...            1             1   \n",
       "4            0      1               0  ...            1             0   \n",
       "...        ...    ...             ...  ...          ...           ...   \n",
       "1798         0      1               0  ...            1             0   \n",
       "1799         1      1               0  ...            1             0   \n",
       "1800         0      1               0  ...            1             0   \n",
       "1801         0      1               0  ...            1             1   \n",
       "1802         1      0               0  ...            0             0   \n",
       "\n",
       "      Party-Based RPG  PvE  PvP  RPG_x  RPG_y  Replay Value  Singleplayer  \\\n",
       "0                   0    0    1      0      0             0             0   \n",
       "1                   0    0    1      0      1             1             0   \n",
       "2                   0    0    1      0      0             0             0   \n",
       "3                   0    0    0      0      0             0             1   \n",
       "4                   0    0    0      0      1             0             1   \n",
       "...               ...  ...  ...    ...    ...           ...           ...   \n",
       "1798                0    0    0      0      0             0             1   \n",
       "1799                0    0    0      0      0             0             1   \n",
       "1800                0    0    0      0      0             0             1   \n",
       "1801                0    0    1      0      0             0             1   \n",
       "1802                0    0    0      0      0             0             1   \n",
       "\n",
       "      free_to_play  \n",
       "0            False  \n",
       "1             True  \n",
       "2             True  \n",
       "3            False  \n",
       "4            False  \n",
       "...            ...  \n",
       "1798         False  \n",
       "1799         False  \n",
       "1800          True  \n",
       "1801         False  \n",
       "1802         False  \n",
       "\n",
       "[1803 rows x 25 columns]"
      ],
      "text/html": "<div>\n<style scoped>\n    .dataframe tbody tr th:only-of-type {\n        vertical-align: middle;\n    }\n\n    .dataframe tbody tr th {\n        vertical-align: top;\n    }\n\n    .dataframe thead th {\n        text-align: right;\n    }\n</style>\n<table border=\"1\" class=\"dataframe\">\n  <thead>\n    <tr style=\"text-align: right;\">\n      <th></th>\n      <th>ID</th>\n      <th>name</th>\n      <th>releasedate</th>\n      <th>freetoplay</th>\n      <th>Free to Play_x</th>\n      <th>Massively Multiplayer_x</th>\n      <th>Asynchronous Multiplayer</th>\n      <th>Casual_y</th>\n      <th>Co-op</th>\n      <th>Co-op Campaign</th>\n      <th>...</th>\n      <th>Multiplayer</th>\n      <th>Online Co-Op</th>\n      <th>Party-Based RPG</th>\n      <th>PvE</th>\n      <th>PvP</th>\n      <th>RPG_x</th>\n      <th>RPG_y</th>\n      <th>Replay Value</th>\n      <th>Singleplayer</th>\n      <th>free_to_play</th>\n    </tr>\n  </thead>\n  <tbody>\n    <tr>\n      <th>0</th>\n      <td>578080</td>\n      <td>PLAYERUNKNOWN'S BATTLEGROUNDS</td>\n      <td>21-Dec-17</td>\n      <td>False</td>\n      <td>False</td>\n      <td>1</td>\n      <td>0</td>\n      <td>0</td>\n      <td>1</td>\n      <td>0</td>\n      <td>...</td>\n      <td>1</td>\n      <td>1</td>\n      <td>0</td>\n      <td>0</td>\n      <td>1</td>\n      <td>0</td>\n      <td>0</td>\n      <td>0</td>\n      <td>0</td>\n      <td>False</td>\n    </tr>\n    <tr>\n      <th>1</th>\n      <td>570</td>\n      <td>Dota 2</td>\n      <td>9-Jul-13</td>\n      <td>True</td>\n      <td>True</td>\n      <td>0</td>\n      <td>0</td>\n      <td>0</td>\n      <td>1</td>\n      <td>0</td>\n      <td>...</td>\n      <td>1</td>\n      <td>1</td>\n      <td>0</td>\n      <td>0</td>\n      <td>1</td>\n      <td>0</td>\n      <td>1</td>\n      <td>1</td>\n      <td>0</td>\n      <td>True</td>\n    </tr>\n    <tr>\n      <th>2</th>\n      <td>730</td>\n      <td>Counter-Strike: Global Offensive</td>\n      <td>21-Aug-12</td>\n      <td>True</td>\n      <td>True</td>\n      <td>0</td>\n      <td>0</td>\n      <td>0</td>\n      <td>1</td>\n      <td>0</td>\n      <td>...</td>\n      <td>1</td>\n      <td>1</td>\n      <td>0</td>\n      <td>0</td>\n      <td>1</td>\n      <td>0</td>\n      <td>0</td>\n      <td>0</td>\n      <td>0</td>\n      <td>True</td>\n    </tr>\n    <tr>\n      <th>3</th>\n      <td>359550</td>\n      <td>Tom Clancy's Rainbow Six Siege</td>\n      <td>1-Dec-15</td>\n      <td>False</td>\n      <td>False</td>\n      <td>0</td>\n      <td>0</td>\n      <td>1</td>\n      <td>1</td>\n      <td>0</td>\n      <td>...</td>\n      <td>1</td>\n      <td>1</td>\n      <td>0</td>\n      <td>0</td>\n      <td>0</td>\n      <td>0</td>\n      <td>0</td>\n      <td>0</td>\n      <td>1</td>\n      <td>False</td>\n    </tr>\n    <tr>\n      <th>4</th>\n      <td>271590</td>\n      <td>Grand Theft Auto V</td>\n      <td>13-Apr-15</td>\n      <td>False</td>\n      <td>False</td>\n      <td>0</td>\n      <td>0</td>\n      <td>0</td>\n      <td>1</td>\n      <td>0</td>\n      <td>...</td>\n      <td>1</td>\n      <td>0</td>\n      <td>0</td>\n      <td>0</td>\n      <td>0</td>\n      <td>0</td>\n      <td>1</td>\n      <td>0</td>\n      <td>1</td>\n      <td>False</td>\n    </tr>\n    <tr>\n      <th>...</th>\n      <td>...</td>\n      <td>...</td>\n      <td>...</td>\n      <td>...</td>\n      <td>...</td>\n      <td>...</td>\n      <td>...</td>\n      <td>...</td>\n      <td>...</td>\n      <td>...</td>\n      <td>...</td>\n      <td>...</td>\n      <td>...</td>\n      <td>...</td>\n      <td>...</td>\n      <td>...</td>\n      <td>...</td>\n      <td>...</td>\n      <td>...</td>\n      <td>...</td>\n      <td>...</td>\n    </tr>\n    <tr>\n      <th>1798</th>\n      <td>64000</td>\n      <td>Men of War: Assault Squad</td>\n      <td>24-Feb-11</td>\n      <td>False</td>\n      <td>False</td>\n      <td>0</td>\n      <td>0</td>\n      <td>0</td>\n      <td>1</td>\n      <td>0</td>\n      <td>...</td>\n      <td>1</td>\n      <td>0</td>\n      <td>0</td>\n      <td>0</td>\n      <td>0</td>\n      <td>0</td>\n      <td>0</td>\n      <td>0</td>\n      <td>1</td>\n      <td>False</td>\n    </tr>\n    <tr>\n      <th>1799</th>\n      <td>227860</td>\n      <td>Castle Story</td>\n      <td>17-Aug-17</td>\n      <td>False</td>\n      <td>False</td>\n      <td>0</td>\n      <td>0</td>\n      <td>1</td>\n      <td>1</td>\n      <td>0</td>\n      <td>...</td>\n      <td>1</td>\n      <td>0</td>\n      <td>0</td>\n      <td>0</td>\n      <td>0</td>\n      <td>0</td>\n      <td>0</td>\n      <td>0</td>\n      <td>1</td>\n      <td>False</td>\n    </tr>\n    <tr>\n      <th>1800</th>\n      <td>429050</td>\n      <td>Feed and Grow: Fish</td>\n      <td>8-Jan-16</td>\n      <td>False</td>\n      <td>False</td>\n      <td>0</td>\n      <td>0</td>\n      <td>0</td>\n      <td>1</td>\n      <td>0</td>\n      <td>...</td>\n      <td>1</td>\n      <td>0</td>\n      <td>0</td>\n      <td>0</td>\n      <td>0</td>\n      <td>0</td>\n      <td>0</td>\n      <td>0</td>\n      <td>1</td>\n      <td>True</td>\n    </tr>\n    <tr>\n      <th>1801</th>\n      <td>209650</td>\n      <td>Call of Duty: Advanced Warfare</td>\n      <td>3-Nov-14</td>\n      <td>False</td>\n      <td>False</td>\n      <td>0</td>\n      <td>0</td>\n      <td>0</td>\n      <td>1</td>\n      <td>0</td>\n      <td>...</td>\n      <td>1</td>\n      <td>1</td>\n      <td>0</td>\n      <td>0</td>\n      <td>1</td>\n      <td>0</td>\n      <td>0</td>\n      <td>0</td>\n      <td>1</td>\n      <td>False</td>\n    </tr>\n    <tr>\n      <th>1802</th>\n      <td>304730</td>\n      <td>Train Fever</td>\n      <td>4-Sep-14</td>\n      <td>False</td>\n      <td>False</td>\n      <td>0</td>\n      <td>0</td>\n      <td>1</td>\n      <td>0</td>\n      <td>0</td>\n      <td>...</td>\n      <td>0</td>\n      <td>0</td>\n      <td>0</td>\n      <td>0</td>\n      <td>0</td>\n      <td>0</td>\n      <td>0</td>\n      <td>0</td>\n      <td>1</td>\n      <td>False</td>\n    </tr>\n  </tbody>\n</table>\n<p>1803 rows × 25 columns</p>\n</div>"
     },
     "metadata": {},
     "execution_count": 17
    }
   ],
   "source": [
    "combined_reduced['freetoplay'] = combined_reduced['freetoplay'].astype('bool')\n",
    "combined_reduced['Free to Play_x'] = combined_reduced['Free to Play_x'].astype('bool')\n",
    "combined_reduced['Free to Play_y'] = combined_reduced['Free to Play_y'].astype('bool')\n",
    "combined_reduced.assign(free_to_play = (combined_reduced['freetoplay'] | combined_reduced['Free to Play_x'] | combined_reduced['Free to Play_y']))\n",
    "#combined_reduced.loc['free_to_play']"
   ]
  },
  {
   "cell_type": "code",
   "execution_count": 20,
   "metadata": {},
   "outputs": [
    {
     "output_type": "error",
     "ename": "KeyError",
     "evalue": "'free_to_play'",
     "traceback": [
      "\u001b[0;31m---------------------------------------------------------------------------\u001b[0m",
      "\u001b[0;31mKeyError\u001b[0m                                  Traceback (most recent call last)",
      "\u001b[0;32m~/opt/anaconda3/lib/python3.8/site-packages/pandas/core/indexes/base.py\u001b[0m in \u001b[0;36mget_loc\u001b[0;34m(self, key, method, tolerance)\u001b[0m\n\u001b[1;32m   2645\u001b[0m             \u001b[0;32mtry\u001b[0m\u001b[0;34m:\u001b[0m\u001b[0;34m\u001b[0m\u001b[0;34m\u001b[0m\u001b[0m\n\u001b[0;32m-> 2646\u001b[0;31m                 \u001b[0;32mreturn\u001b[0m \u001b[0mself\u001b[0m\u001b[0;34m.\u001b[0m\u001b[0m_engine\u001b[0m\u001b[0;34m.\u001b[0m\u001b[0mget_loc\u001b[0m\u001b[0;34m(\u001b[0m\u001b[0mkey\u001b[0m\u001b[0;34m)\u001b[0m\u001b[0;34m\u001b[0m\u001b[0;34m\u001b[0m\u001b[0m\n\u001b[0m\u001b[1;32m   2647\u001b[0m             \u001b[0;32mexcept\u001b[0m \u001b[0mKeyError\u001b[0m\u001b[0;34m:\u001b[0m\u001b[0;34m\u001b[0m\u001b[0;34m\u001b[0m\u001b[0m\n",
      "\u001b[0;32mpandas/_libs/index.pyx\u001b[0m in \u001b[0;36mpandas._libs.index.IndexEngine.get_loc\u001b[0;34m()\u001b[0m\n",
      "\u001b[0;32mpandas/_libs/index.pyx\u001b[0m in \u001b[0;36mpandas._libs.index.IndexEngine.get_loc\u001b[0;34m()\u001b[0m\n",
      "\u001b[0;32mpandas/_libs/hashtable_class_helper.pxi\u001b[0m in \u001b[0;36mpandas._libs.hashtable.PyObjectHashTable.get_item\u001b[0;34m()\u001b[0m\n",
      "\u001b[0;32mpandas/_libs/hashtable_class_helper.pxi\u001b[0m in \u001b[0;36mpandas._libs.hashtable.PyObjectHashTable.get_item\u001b[0;34m()\u001b[0m\n",
      "\u001b[0;31mKeyError\u001b[0m: 'free_to_play'",
      "\nDuring handling of the above exception, another exception occurred:\n",
      "\u001b[0;31mKeyError\u001b[0m                                  Traceback (most recent call last)",
      "\u001b[0;32m<ipython-input-20-5f0d85ce7f4d>\u001b[0m in \u001b[0;36m<module>\u001b[0;34m\u001b[0m\n\u001b[1;32m      1\u001b[0m \u001b[0mcombined_reduced\u001b[0m\u001b[0;34m.\u001b[0m\u001b[0mreset_index\u001b[0m\u001b[0;34m(\u001b[0m\u001b[0;34m)\u001b[0m\u001b[0;34m\u001b[0m\u001b[0;34m\u001b[0m\u001b[0m\n\u001b[0;32m----> 2\u001b[0;31m \u001b[0mcombined_reduced\u001b[0m\u001b[0;34m[\u001b[0m\u001b[0;34m'free_to_play'\u001b[0m\u001b[0;34m]\u001b[0m\u001b[0;34m.\u001b[0m\u001b[0mreplace\u001b[0m\u001b[0;34m(\u001b[0m\u001b[0;34m{\u001b[0m\u001b[0;34m'True'\u001b[0m\u001b[0;34m:\u001b[0m \u001b[0;36m1\u001b[0m\u001b[0;34m}\u001b[0m\u001b[0;34m,\u001b[0m \u001b[0;34m{\u001b[0m\u001b[0;34m'False'\u001b[0m\u001b[0;34m:\u001b[0m \u001b[0;36m0\u001b[0m\u001b[0;34m}\u001b[0m\u001b[0;34m,\u001b[0m \u001b[0minplace\u001b[0m\u001b[0;34m=\u001b[0m\u001b[0;32mTrue\u001b[0m\u001b[0;34m)\u001b[0m\u001b[0;34m\u001b[0m\u001b[0;34m\u001b[0m\u001b[0m\n\u001b[0m\u001b[1;32m      3\u001b[0m \u001b[0;31m#combined_reduced.drop(['freetoplay', 'Free to Play_x', 'Free to Play_y'], inplace=True, axis=1)\u001b[0m\u001b[0;34m\u001b[0m\u001b[0;34m\u001b[0m\u001b[0;34m\u001b[0m\u001b[0m\n\u001b[1;32m      4\u001b[0m \u001b[0;31m#combined_reduced.drop('Free to Play_x', inplace=True, axis=1)\u001b[0m\u001b[0;34m\u001b[0m\u001b[0;34m\u001b[0m\u001b[0;34m\u001b[0m\u001b[0m\n\u001b[1;32m      5\u001b[0m \u001b[0;31m#combined_reduced.drop('Free to Play_y', inplace=True, axis=1)\u001b[0m\u001b[0;34m\u001b[0m\u001b[0;34m\u001b[0m\u001b[0;34m\u001b[0m\u001b[0m\n",
      "\u001b[0;32m~/opt/anaconda3/lib/python3.8/site-packages/pandas/core/frame.py\u001b[0m in \u001b[0;36m__getitem__\u001b[0;34m(self, key)\u001b[0m\n\u001b[1;32m   2798\u001b[0m             \u001b[0;32mif\u001b[0m \u001b[0mself\u001b[0m\u001b[0;34m.\u001b[0m\u001b[0mcolumns\u001b[0m\u001b[0;34m.\u001b[0m\u001b[0mnlevels\u001b[0m \u001b[0;34m>\u001b[0m \u001b[0;36m1\u001b[0m\u001b[0;34m:\u001b[0m\u001b[0;34m\u001b[0m\u001b[0;34m\u001b[0m\u001b[0m\n\u001b[1;32m   2799\u001b[0m                 \u001b[0;32mreturn\u001b[0m \u001b[0mself\u001b[0m\u001b[0;34m.\u001b[0m\u001b[0m_getitem_multilevel\u001b[0m\u001b[0;34m(\u001b[0m\u001b[0mkey\u001b[0m\u001b[0;34m)\u001b[0m\u001b[0;34m\u001b[0m\u001b[0;34m\u001b[0m\u001b[0m\n\u001b[0;32m-> 2800\u001b[0;31m             \u001b[0mindexer\u001b[0m \u001b[0;34m=\u001b[0m \u001b[0mself\u001b[0m\u001b[0;34m.\u001b[0m\u001b[0mcolumns\u001b[0m\u001b[0;34m.\u001b[0m\u001b[0mget_loc\u001b[0m\u001b[0;34m(\u001b[0m\u001b[0mkey\u001b[0m\u001b[0;34m)\u001b[0m\u001b[0;34m\u001b[0m\u001b[0;34m\u001b[0m\u001b[0m\n\u001b[0m\u001b[1;32m   2801\u001b[0m             \u001b[0;32mif\u001b[0m \u001b[0mis_integer\u001b[0m\u001b[0;34m(\u001b[0m\u001b[0mindexer\u001b[0m\u001b[0;34m)\u001b[0m\u001b[0;34m:\u001b[0m\u001b[0;34m\u001b[0m\u001b[0;34m\u001b[0m\u001b[0m\n\u001b[1;32m   2802\u001b[0m                 \u001b[0mindexer\u001b[0m \u001b[0;34m=\u001b[0m \u001b[0;34m[\u001b[0m\u001b[0mindexer\u001b[0m\u001b[0;34m]\u001b[0m\u001b[0;34m\u001b[0m\u001b[0;34m\u001b[0m\u001b[0m\n",
      "\u001b[0;32m~/opt/anaconda3/lib/python3.8/site-packages/pandas/core/indexes/base.py\u001b[0m in \u001b[0;36mget_loc\u001b[0;34m(self, key, method, tolerance)\u001b[0m\n\u001b[1;32m   2646\u001b[0m                 \u001b[0;32mreturn\u001b[0m \u001b[0mself\u001b[0m\u001b[0;34m.\u001b[0m\u001b[0m_engine\u001b[0m\u001b[0;34m.\u001b[0m\u001b[0mget_loc\u001b[0m\u001b[0;34m(\u001b[0m\u001b[0mkey\u001b[0m\u001b[0;34m)\u001b[0m\u001b[0;34m\u001b[0m\u001b[0;34m\u001b[0m\u001b[0m\n\u001b[1;32m   2647\u001b[0m             \u001b[0;32mexcept\u001b[0m \u001b[0mKeyError\u001b[0m\u001b[0;34m:\u001b[0m\u001b[0;34m\u001b[0m\u001b[0;34m\u001b[0m\u001b[0m\n\u001b[0;32m-> 2648\u001b[0;31m                 \u001b[0;32mreturn\u001b[0m \u001b[0mself\u001b[0m\u001b[0;34m.\u001b[0m\u001b[0m_engine\u001b[0m\u001b[0;34m.\u001b[0m\u001b[0mget_loc\u001b[0m\u001b[0;34m(\u001b[0m\u001b[0mself\u001b[0m\u001b[0;34m.\u001b[0m\u001b[0m_maybe_cast_indexer\u001b[0m\u001b[0;34m(\u001b[0m\u001b[0mkey\u001b[0m\u001b[0;34m)\u001b[0m\u001b[0;34m)\u001b[0m\u001b[0;34m\u001b[0m\u001b[0;34m\u001b[0m\u001b[0m\n\u001b[0m\u001b[1;32m   2649\u001b[0m         \u001b[0mindexer\u001b[0m \u001b[0;34m=\u001b[0m \u001b[0mself\u001b[0m\u001b[0;34m.\u001b[0m\u001b[0mget_indexer\u001b[0m\u001b[0;34m(\u001b[0m\u001b[0;34m[\u001b[0m\u001b[0mkey\u001b[0m\u001b[0;34m]\u001b[0m\u001b[0;34m,\u001b[0m \u001b[0mmethod\u001b[0m\u001b[0;34m=\u001b[0m\u001b[0mmethod\u001b[0m\u001b[0;34m,\u001b[0m \u001b[0mtolerance\u001b[0m\u001b[0;34m=\u001b[0m\u001b[0mtolerance\u001b[0m\u001b[0;34m)\u001b[0m\u001b[0;34m\u001b[0m\u001b[0;34m\u001b[0m\u001b[0m\n\u001b[1;32m   2650\u001b[0m         \u001b[0;32mif\u001b[0m \u001b[0mindexer\u001b[0m\u001b[0;34m.\u001b[0m\u001b[0mndim\u001b[0m \u001b[0;34m>\u001b[0m \u001b[0;36m1\u001b[0m \u001b[0;32mor\u001b[0m \u001b[0mindexer\u001b[0m\u001b[0;34m.\u001b[0m\u001b[0msize\u001b[0m \u001b[0;34m>\u001b[0m \u001b[0;36m1\u001b[0m\u001b[0;34m:\u001b[0m\u001b[0;34m\u001b[0m\u001b[0;34m\u001b[0m\u001b[0m\n",
      "\u001b[0;32mpandas/_libs/index.pyx\u001b[0m in \u001b[0;36mpandas._libs.index.IndexEngine.get_loc\u001b[0;34m()\u001b[0m\n",
      "\u001b[0;32mpandas/_libs/index.pyx\u001b[0m in \u001b[0;36mpandas._libs.index.IndexEngine.get_loc\u001b[0;34m()\u001b[0m\n",
      "\u001b[0;32mpandas/_libs/hashtable_class_helper.pxi\u001b[0m in \u001b[0;36mpandas._libs.hashtable.PyObjectHashTable.get_item\u001b[0;34m()\u001b[0m\n",
      "\u001b[0;32mpandas/_libs/hashtable_class_helper.pxi\u001b[0m in \u001b[0;36mpandas._libs.hashtable.PyObjectHashTable.get_item\u001b[0;34m()\u001b[0m\n",
      "\u001b[0;31mKeyError\u001b[0m: 'free_to_play'"
     ]
    }
   ],
   "source": [
    "#combined_reduced['free_to_play'].replace({'True': 1}, {'False': 0}, inplace=True)\n",
    "#combined_reduced.drop(['freetoplay', 'Free to Play_x', 'Free to Play_y'], inplace=True, axis=1)\n",
    "#combined_reduced.drop('Free to Play_x', inplace=True, axis=1)\n",
    "#combined_reduced.drop('Free to Play_y', inplace=True, axis=1)"
   ]
  },
  {
   "cell_type": "code",
   "execution_count": null,
   "metadata": {},
   "outputs": [],
   "source": []
  }
 ],
 "metadata": {
  "kernelspec": {
   "name": "python383jvsc74a57bd0246c0fc41833790208b3df04d438f8f4b2b5d7b0be58403824f5191ef0cc708e",
   "display_name": "Python 3.8.3 64-bit ('base': conda)"
  },
  "language_info": {
   "codemirror_mode": {
    "name": "ipython",
    "version": 3
   },
   "file_extension": ".py",
   "mimetype": "text/x-python",
   "name": "python",
   "nbconvert_exporter": "python",
   "pygments_lexer": "ipython3",
   "version": "3.8.3-final"
  }
 },
 "nbformat": 4,
 "nbformat_minor": 2
}
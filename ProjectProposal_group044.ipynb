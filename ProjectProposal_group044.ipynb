{
 "cells": [
  {
   "cell_type": "markdown",
   "metadata": {},
   "source": [
    "# COGS 108 - Final Project Proposal"
   ]
  },
  {
   "cell_type": "markdown",
   "metadata": {},
   "source": [
    "# Names\n",
    "\n",
    "- Thuy Nguyen\n",
    "- Tony Hu\n",
    "- Raul Vargas\n",
    "- Kristen Corpuz\n",
    "- Megan Li"
   ]
  },
  {
   "cell_type": "markdown",
   "metadata": {},
   "source": [
    "# Research Question"
   ]
  },
  {
   "cell_type": "markdown",
   "metadata": {},
   "source": [
    "*Fill in your research question here*"
   ]
  },
  {
   "cell_type": "markdown",
   "metadata": {},
   "source": [
    "## Background and Prior Work"
   ]
  },
  {
   "cell_type": "markdown",
   "metadata": {},
   "source": [
    "*Fill in your background and prior work here. Be sure to specify which statements are from which references.* \n",
    "\n",
    "References (include links):\n",
    "- 1)\n",
    "- 2)"
   ]
  },
  {
   "cell_type": "markdown",
   "metadata": {},
   "source": [
    "# Hypothesis\n"
   ]
  },
  {
   "cell_type": "markdown",
   "metadata": {},
   "source": [
    "*State and defend your hypotheses here.*"
   ]
  },
  {
   "cell_type": "markdown",
   "metadata": {},
   "source": [
    "# Data"
   ]
  },
  {
   "cell_type": "markdown",
   "metadata": {},
   "source": [
    "*Explain what the ideal dataset you would want to answer this question. (This should include: What variables? How many observations? Who/what/how would these data be collected? How would these data be stored/organized?)*"
   ]
  },
  {
   "cell_type": "markdown",
   "metadata": {},
   "source": [
    "# Ethics & Privacy"
   ]
  },
  {
   "cell_type": "markdown",
   "metadata": {},
   "source": [
    "*Fill in your ethics & privacy discussion here*"
   ]
  },
  {
   "cell_type": "markdown",
   "metadata": {},
   "source": [
    "# Team Expectations "
   ]
  },
  {
   "cell_type": "markdown",
   "metadata": {},
   "source": [
    "These are the terms of group conduct and cooperation that we agree on as a team.\n",
    "\n",
    "**Participation**: We agree to...\n",
    "\n",
    "Demonstrate our efforts of contributing to the team project. That includes:\n",
    "- Each team member commits to finishing the task they agreed to.\n",
    "- In the scenario that they are struggling with their task, they should be proactive and communicate with other team members ideally 48 hours or more before the deadline.\n",
    "\n",
    "**Communication**: We agree to..\n",
    "- Communicate using a group chat in Imessage and shared Google drive.\n",
    "- Through empathy and fairness, the team will stay together and succeed. We agree to communicate honestly and openly about work that has been completed on any assignments\n",
    "- Challenge the idea not the person, rather addressing actions or ideas while maintaining self-awareness. \n",
    "- Critique with an emphasis on improvement (What specific action they can do? What are some things that you like? What are some things that you don’t like?)\n",
    "- Use “I” statements\n",
    "- Promote role clarity, information sharing, accountability, and the ability to make adjustments\n",
    "- Share responsibility to perform. \n",
    "\n",
    "**Meetings**: We agree to...\n",
    "- Meet every week on Wednesday 12pm-1pm to go over what work we have completed and set new action items\n",
    "- Create meeting agendas and meeting reports to organize our progress or lack thereof.\n",
    "\n",
    "**Conduc**t: We agree to...\n",
    "- Treat each team member with respect even during times of conflicts\n",
    "- Apply a \"No Tolerance Policy\" against personal attacks.\n",
    "- Exchange ideas in a respectful and productive manner.\n",
    "- Understand that everyone has other responsibilities besides the project, so respect each other’s schedule and time.\n",
    "\n",
    "**Conflict**: We agree to...\n",
    "- Attempt to be upfront about any issues that we have with one another as early as possible to stop issues from festering\n",
    "- Attempt to be constructive in conflict resolution and listen to what each side has to say\n",
    "- Talk to the team first before reaching out to the teaching staff.\n",
    "- To accomplish this, we will establish a team norm that provides equal time for all members to speak and listen without judgment. This group culture helps create an atmosphere where members feel safe talking about their struggles, pains, and failures to overcome and achieve our goals\n",
    "\n",
    "**Deadlines**: We agree to...\n",
    "- Attempt to come up with realistic deadlines for each other and hold each other accountable to them\n",
    "- Communicate to each other if any help is needed reaching a certain deadline\n",
    "- If the team wants to ask for a deadline extension from the professor, an agreement must be reached 12 hours before the deadline.\n"
   ]
  },
  {
   "cell_type": "markdown",
   "metadata": {},
   "source": [
    "# Project Timeline Proposal"
   ]
  },
  {
   "cell_type": "markdown",
   "metadata": {},
   "source": [
    "| Meeting Date  | Meeting Time| Completed Before Meeting  | Discuss at Meeting |\n",
    "|---|---|---|---|\n",
    "| 1/20  |  1 PM | Read & Think about COGS 108 expectations; brainstorm topics/questions  | Determine best form of communication; Discuss and decide on final project topic; discuss hypothesis; begin background research | \n",
    "| 1/26  |  10 AM |  Do background research on topic | Discuss ideal dataset(s) and ethics; draft project proposal | \n",
    "| 2/1  | 10 AM  | Edit, finalize, and submit proposal; Search for datasets  | Discuss Wrangling and possible analytical approaches; Assign group members to lead each specific part   |\n",
    "| 2/14  | 6 PM  | Import & Wrangle Data (Ant Man); EDA (Hulk) | Review/Edit wrangling/EDA; Discuss Analysis Plan   |\n",
    "| 2/23  | 12 PM  | Finalize wrangling/EDA; Begin Analysis (Iron Man; Thor) | Discuss/edit Analysis; Complete project check-in |\n",
    "| 3/13  | 12 PM  | Complete analysis; Draft results/conclusion/discussion (Wasp)| Discuss/edit full project |\n",
    "| 3/19  | Before 11:59 PM  | NA | Turn in Final Project & Group Project Surveys |"
   ]
  }
 ],
 "metadata": {
  "kernelspec": {
   "display_name": "Python 3",
   "language": "python",
   "name": "python3"
  },
  "language_info": {
   "codemirror_mode": {
    "name": "ipython",
    "version": 3
   },
   "file_extension": ".py",
   "mimetype": "text/x-python",
   "name": "python",
   "nbconvert_exporter": "python",
   "pygments_lexer": "ipython3",
   "version": "3.7.9"
  }
 },
 "nbformat": 4,
 "nbformat_minor": 2
}
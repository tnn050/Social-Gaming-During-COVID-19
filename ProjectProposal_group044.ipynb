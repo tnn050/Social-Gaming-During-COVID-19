{
 "cells": [
  {
   "cell_type": "markdown",
   "metadata": {},
   "source": [
    "# COGS 108 - Final Project Proposal"
   ]
  },
  {
   "cell_type": "markdown",
   "metadata": {},
   "source": [
    "# Names\n",
    "\n",
    "- Thuy Nguyen\n",
    "- Tony Hu\n",
    "- Raul Vargas\n",
    "- Kristen Corpuz\n",
    "- Megan Li"
   ]
  },
  {
   "cell_type": "markdown",
   "metadata": {},
   "source": [
    "# Research Question"
   ]
  },
  {
   "cell_type": "markdown",
   "metadata": {},
   "source": [
    "In the United States, is there a difference in the popularity of video games with social interactions before and during COVID-19?"
   ]
  },
  {
   "cell_type": "markdown",
   "metadata": {},
   "source": [
    "## Background and Prior Work"
   ]
  },
  {
   "cell_type": "markdown",
   "metadata": {},
   "source": [
    "The emergence of COVID-19 in March, 2020, has resulted in mandated quarantines, stay at home rules, and smaller social gatherings in order to slow the spread of COVID-19. A systematic review conducted by Loades et al found that such closures have led to social isolation and loneliness across children and adolescents across various countries such as the United States, China, Europe, Australia, India, Malaysia, Korea, Thailand, Israel, Iran, and Russia (Loades). Other global surveys such as the COVIDiSTRESS survey have also found the presence of emotional distress, anxiety-related behaviors, and stress as a result of isolation (Yamada). \n",
    "\n",
    "A common way to lessen the feeling of loneliness is through social media and other platforms that offer social interactions. One of these platforms is multiplayer games with social interactions. Other methods of promoting social connection and social distancing during lockdowns have surfaced such as the World Health Organization’s initiation of a campaign through the hashtag #PlayApartTogether (Todd). During the pandemic, gaming has allowed people to keep in touch with others more than ever before by acting as an alternative to in-person meetings and hangouts. Social interactions by gaming had increased between friends “for the sake of spending time together and hanging out” (Kelly). Online communication applications like Discord, whose user count doubled in size between 2019 and 2021, has facilitated the ability to interact virtually with other people (Curry). \n",
    "\n",
    "In the first phase of the pandemic, gamers who usually enjoyed multiplayer games exhibited an increase in playtime. A third of these gamers reported experiencing an increase of importance in having social interaction aspects in video games (Cmentowski). The importance of playing games with friends amongst gamers doubled during the first 3 months of the pandemic compared to the period of time before the pandemic, while the importance of commitment factor decreased dramatically (Cmentowski). \n",
    "\n",
    "References:\n",
    "\n",
    "- Curry, David. “Discord Revenue and Usage Statistics (2021).” Business of Apps, 22 Mar. 2021, \n",
    "www.businessofapps.com/data/discord-statistics/. \n",
    "- Cmentowski, Sebastian, and Jens Krüger. “Playing With Friends - The Importance of Social Play During the COVID-19 Pandemic.” Extended Abstracts of the 2020 Annual Symposium on Computer-Human Interaction in Play, 2020, doi:10.1145/3383668.3419911. \n",
    "- Kelly, Heather. “They Laughed, They Cried, They Killed Monsters: How Friendships Thrived in Video Games during the Pandemic.” 22 Mar. 2021, www.washingtonpost.com/technology/2021/03/20/video-games-pandemic-friends/ \n",
    "- Loades, Maria Elizabeth et al. “Rapid Systematic Review: The Impact of Social Isolation and Loneliness on the \n",
    "Mental Health of Children and Adolescents in the Context of COVID-19.” Journal of the American Academy of Child and Adolescent Psychiatry vol. 59,11 (2020): 1218-1239.e3. doi:10.1016/j.jaac.2020.05.009\n",
    "- Lufkin, Bryan. “How Online Gaming Has Become a Social Lifeline.” BBC Worklife, BBC, 16 Dec. 2020, \n",
    "www.bbc.com/worklife/article/20201215-how-online-gaming-has-become-a-social-lifeline. \n",
    "- Todd, Joe. “Social Video Games to Play during the Coronavirus Quarantine.” The Conversation, 14 Jan. 2021, \n",
    "theconversation.com/social-video-games-to-play-during-the-coronavirus-quarantine-134880. \n",
    "- Yamada, Y., Ćepulić, DB., Coll-Martín, T. et al. COVIDiSTRESS Global Survey dataset on psychological and \n",
    "behavioural consequences of the COVID-19 outbreak. Sci Data 8, 3 (2021), https://doi.org/10.1038/s41597-020-00784-9\n"
   ]
  },
  {
   "cell_type": "markdown",
   "metadata": {},
   "source": [
    "# Hypothesis\n"
   ]
  },
  {
   "cell_type": "markdown",
   "metadata": {},
   "source": [
    "We hypothesize that video games with social properties/interactions will gain popularity over the course of the pandemic. We believe that the emergence of the pandemic along with corresponding guidelines such as the stay at home rule has led to an increase in time spent at home. We believe that with this increase in time spent at home during the pandemic and decreased in-person social interactions, people are more likely to play video games with social properties/interactions. There may also be an increase in virtual interactions through social media apps like Discord.\n"
   ]
  },
  {
   "cell_type": "markdown",
   "metadata": {},
   "source": [
    "# Data"
   ]
  },
  {
   "cell_type": "markdown",
   "metadata": {},
   "source": [
    "Ideal datasets would include the video games with popularity scores before the pandemic began as well as video games with popularity scores during the pandemic. We aim to have several hundreds of observations. We would use video games that appear in both datasets. Each dataset would also include the genre of these games such as the presence or absence of social properties and player counts of each game in monthly intervals. If the data is collected and stored properly, then it should be simple to look at, with each row representing each video game, such that each row contains the video game’s title and the corresponding information such as different years and other useful categorical/numerical data in separate columns. An alternative to the dataset is each row represents a single individual and their collected gaming information before and after the pandemic."
   ]
  },
  {
   "cell_type": "markdown",
   "metadata": {},
   "source": [
    "# Ethics & Privacy"
   ]
  },
  {
   "cell_type": "markdown",
   "metadata": {},
   "source": [
    "The dataset may be collected from people of different ages including minors so it is important to make sure personal identifying information is removed for all users. We can detect this type of information by scanning the rows and columns and removing them using code. We may also see some bias in the dataset depending on which website we get it from because the data may be skewed towards gamers and not the general population or vice versa or focus on a certain age group. We will try to workaround that by searching hard for datasets that will help us directly answer the research questions. We can also detect the biases in the dataset when we analyze the data and plot the data visually, looking for extreme skewness. We also have some concerns about performing the analysis on the dataset. Websites providing the dataset may not provide background information about the data. Therefore, we will collectively decide whether certain datasets will be credible enough through our own research of outsiders' opinions about the source of said dataset."
   ]
  },
  {
   "cell_type": "markdown",
   "metadata": {},
   "source": [
    "# Team Expectations "
   ]
  },
  {
   "cell_type": "markdown",
   "metadata": {},
   "source": [
    "These are the terms of group conduct and cooperation that we agree on as a team.\n",
    "\n",
    "**Participation**: We agree to...\n",
    "\n",
    "Demonstrate our efforts of contributing to the team project. That includes:\n",
    "- Each team member commits to finishing the task they agreed to.\n",
    "- In the scenario that they are struggling with their task, they should be proactive and communicate with other team members ideally 48 hours or more before the deadline.\n",
    "\n",
    "**Communication**: We agree to..\n",
    "- Communicate using a group chat in Imessage and shared Google drive.\n",
    "- Through empathy and fairness, the team will stay together and succeed. We agree to communicate honestly and openly about work that has been completed on any assignments\n",
    "- Challenge the idea not the person, rather addressing actions or ideas while maintaining self-awareness. \n",
    "- Critique with an emphasis on improvement (What specific action they can do? What are some things that you like? What are some things that you don’t like?)\n",
    "- Use “I” statements\n",
    "- Promote role clarity, information sharing, accountability, and the ability to make adjustments\n",
    "- Share responsibility to perform. \n",
    "\n",
    "**Meetings**: We agree to...\n",
    "- Meet every week on Wednesday 12pm-1pm to go over what work we have completed and set new action items\n",
    "- Create meeting agendas and meeting reports to organize our progress or lack thereof.\n",
    "\n",
    "**Conduc**t: We agree to...\n",
    "- Treat each team member with respect even during times of conflicts\n",
    "- Apply a \"No Tolerance Policy\" against personal attacks.\n",
    "- Exchange ideas in a respectful and productive manner.\n",
    "- Understand that everyone has other responsibilities besides the project, so respect each other’s schedule and time.\n",
    "\n",
    "**Conflict**: We agree to...\n",
    "- Attempt to be upfront about any issues that we have with one another as early as possible to stop issues from festering\n",
    "- Attempt to be constructive in conflict resolution and listen to what each side has to say\n",
    "- Talk to the team first before reaching out to the teaching staff.\n",
    "- To accomplish this, we will establish a team norm that provides equal time for all members to speak and listen without judgment. This group culture helps create an atmosphere where members feel safe talking about their struggles, pains, and failures to overcome and achieve our goals\n",
    "\n",
    "**Deadlines**: We agree to...\n",
    "- Attempt to come up with realistic deadlines for each other and hold each other accountable to them\n",
    "- Communicate to each other if any help is needed reaching a certain deadline\n",
    "- If the team wants to ask for a deadline extension from the professor, an agreement must be reached 12 hours before the deadline.\n"
   ]
  },
  {
   "cell_type": "markdown",
   "metadata": {},
   "source": [
    "# Project Timeline Proposal"
   ]
  },
  {
   "cell_type": "markdown",
   "metadata": {},
   "source": [
    "| Meeting Date  | Meeting Time| Completed Before Meeting  | Discuss at Meeting |\n",
    "|---|---|---|---|\n",
    "| 4/14  |  12 PM | Joint google doc was started for brainstorming process about personal interests and possible topics/questions  | Determine best form of communication; review of COGS 108 project expectations; narrow down the possible topics | \n",
    "| 4/21  |  12 PM | Collective decision on 1 topic | Task division; begin draft for project proposal; discuss possible dataset sources; begin background research | \n",
    "| 4/23  | 4 PM | Most of proposal complete; team contract pushed on github; background research completed | Edit, finalize, and submit proposal |\n",
    "| 4/28  | 12 PM  | Import & Wrangle Data from from data.mendeley; EDA from Steam | Review/Edit wrangling/EDA; Discuss Analysis Plan |\n",
    "| 5/5  | 12 PM  | FBegin Analysis (data.mendeley; Steam) | Discuss/edit Analysis; Complete project check-in |\n",
    "| 5/19  | 12 PM  | Complete analysis; Draft results/conclusion/discussion | Discuss/edit full project; complete project check-in |\n",
    "| 5/26 | 12 PM | Brainstorming ideas for video/report layout | Start filming video; Start working on final report |\n",
    "| 6/9  | Before 11:59 PM  | NA | Turn in Final Project & Group Project Surveys |"
   ]
  }
 ],
 "metadata": {
  "kernelspec": {
   "display_name": "Python 3",
   "language": "python",
   "name": "python3"
  },
  "language_info": {
   "codemirror_mode": {
    "name": "ipython",
    "version": 3
   },
   "file_extension": ".py",
   "mimetype": "text/x-python",
   "name": "python",
   "nbconvert_exporter": "python",
   "pygments_lexer": "ipython3",
   "version": "3.7.9"
  }
 },
 "nbformat": 4,
 "nbformat_minor": 2
}